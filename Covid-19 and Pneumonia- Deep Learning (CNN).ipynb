{
 "cells": [
  {
   "cell_type": "code",
   "execution_count": 1,
   "metadata": {
    "_cell_guid": "b1076dfc-b9ad-4769-8c92-a6c4dae69d19",
    "_uuid": "8f2839f25d086af736a60e9eeb907d3b93b6e0e5",
    "execution": {
     "iopub.execute_input": "2021-11-05T05:59:01.837034Z",
     "iopub.status.busy": "2021-11-05T05:59:01.836442Z",
     "iopub.status.idle": "2021-11-05T05:59:02.583762Z",
     "shell.execute_reply": "2021-11-05T05:59:02.582646Z",
     "shell.execute_reply.started": "2021-11-05T05:59:01.836925Z"
    }
   },
   "outputs": [],
   "source": [
    "import pandas as pd\n",
    "import numpy as np\n",
    "import matplotlib.pyplot as plt\n",
    "import seaborn as sns\n",
    "from matplotlib.image import imread"
   ]
  },
  {
   "cell_type": "code",
   "execution_count": 2,
   "metadata": {
    "execution": {
     "iopub.execute_input": "2021-11-05T05:59:02.585934Z",
     "iopub.status.busy": "2021-11-05T05:59:02.585630Z",
     "iopub.status.idle": "2021-11-05T05:59:02.590061Z",
     "shell.execute_reply": "2021-11-05T05:59:02.588986Z",
     "shell.execute_reply.started": "2021-11-05T05:59:02.585905Z"
    }
   },
   "outputs": [],
   "source": [
    "import zipfile\n",
    "import os"
   ]
  },
  {
   "cell_type": "code",
   "execution_count": 3,
   "metadata": {
    "execution": {
     "iopub.execute_input": "2021-11-05T05:59:02.591875Z",
     "iopub.status.busy": "2021-11-05T05:59:02.591580Z",
     "iopub.status.idle": "2021-11-05T05:59:02.602099Z",
     "shell.execute_reply": "2021-11-05T05:59:02.601009Z",
     "shell.execute_reply.started": "2021-11-05T05:59:02.591846Z"
    }
   },
   "outputs": [],
   "source": [
    "data_dir = '../input/chest-xray-covid19-pneumonia/Data'"
   ]
  },
  {
   "cell_type": "code",
   "execution_count": 4,
   "metadata": {
    "execution": {
     "iopub.execute_input": "2021-11-05T05:59:02.603794Z",
     "iopub.status.busy": "2021-11-05T05:59:02.603256Z",
     "iopub.status.idle": "2021-11-05T05:59:02.624359Z",
     "shell.execute_reply": "2021-11-05T05:59:02.623396Z",
     "shell.execute_reply.started": "2021-11-05T05:59:02.603763Z"
    }
   },
   "outputs": [],
   "source": [
    "os.listdir(data_dir)"
   ]
  },
  {
   "cell_type": "code",
   "execution_count": 5,
   "metadata": {
    "execution": {
     "iopub.execute_input": "2021-11-05T05:59:02.627344Z",
     "iopub.status.busy": "2021-11-05T05:59:02.627038Z",
     "iopub.status.idle": "2021-11-05T05:59:02.635786Z",
     "shell.execute_reply": "2021-11-05T05:59:02.634854Z",
     "shell.execute_reply.started": "2021-11-05T05:59:02.627314Z"
    }
   },
   "outputs": [],
   "source": [
    "train_dir = data_dir+\"/train\"\n",
    "os.listdir(train_dir)"
   ]
  },
  {
   "cell_type": "code",
   "execution_count": 6,
   "metadata": {
    "execution": {
     "iopub.execute_input": "2021-11-05T05:59:02.639749Z",
     "iopub.status.busy": "2021-11-05T05:59:02.639260Z",
     "iopub.status.idle": "2021-11-05T05:59:02.650352Z",
     "shell.execute_reply": "2021-11-05T05:59:02.649605Z",
     "shell.execute_reply.started": "2021-11-05T05:59:02.639711Z"
    }
   },
   "outputs": [],
   "source": [
    "test_dir = data_dir+\"/test\"\n",
    "os.listdir(test_dir)"
   ]
  },
  {
   "cell_type": "markdown",
   "metadata": {},
   "source": [
    "#### Lets evaluate the directories\n",
    "- checking image counts for each class\n",
    "- Appears we have a bit of an unbalance with the data\n",
    "- There are mare covid images than Normal and Pneumonia\n",
    "- This could work in our favor allowing the model to differentiate covid images better "
   ]
  },
  {
   "cell_type": "code",
   "execution_count": 7,
   "metadata": {
    "execution": {
     "iopub.execute_input": "2021-11-05T05:59:02.651932Z",
     "iopub.status.busy": "2021-11-05T05:59:02.651482Z",
     "iopub.status.idle": "2021-11-05T05:59:02.795665Z",
     "shell.execute_reply": "2021-11-05T05:59:02.794786Z",
     "shell.execute_reply.started": "2021-11-05T05:59:02.651901Z"
    }
   },
   "outputs": [],
   "source": [
    "len(os.listdir(train_dir+\"/COVID19\"))"
   ]
  },
  {
   "cell_type": "code",
   "execution_count": 8,
   "metadata": {
    "execution": {
     "iopub.execute_input": "2021-11-05T05:59:02.797169Z",
     "iopub.status.busy": "2021-11-05T05:59:02.796910Z",
     "iopub.status.idle": "2021-11-05T05:59:03.065043Z",
     "shell.execute_reply": "2021-11-05T05:59:03.064109Z",
     "shell.execute_reply.started": "2021-11-05T05:59:02.797143Z"
    }
   },
   "outputs": [],
   "source": [
    "len(os.listdir(train_dir+\"/NORMAL\"))"
   ]
  },
  {
   "cell_type": "code",
   "execution_count": 9,
   "metadata": {
    "execution": {
     "iopub.execute_input": "2021-11-05T05:59:03.066968Z",
     "iopub.status.busy": "2021-11-05T05:59:03.066580Z",
     "iopub.status.idle": "2021-11-05T05:59:03.366432Z",
     "shell.execute_reply": "2021-11-05T05:59:03.365370Z",
     "shell.execute_reply.started": "2021-11-05T05:59:03.066926Z"
    }
   },
   "outputs": [],
   "source": [
    "len(os.listdir(train_dir+\"/PNEUMONIA\"))"
   ]
  },
  {
   "cell_type": "markdown",
   "metadata": {},
   "source": [
    "#### Testing Set"
   ]
  },
  {
   "cell_type": "code",
   "execution_count": 10,
   "metadata": {
    "execution": {
     "iopub.execute_input": "2021-11-05T05:59:03.368201Z",
     "iopub.status.busy": "2021-11-05T05:59:03.367920Z",
     "iopub.status.idle": "2021-11-05T05:59:03.398034Z",
     "shell.execute_reply": "2021-11-05T05:59:03.397035Z",
     "shell.execute_reply.started": "2021-11-05T05:59:03.368173Z"
    }
   },
   "outputs": [],
   "source": [
    "len(os.listdir(test_dir+\"/COVID19\"))"
   ]
  },
  {
   "cell_type": "code",
   "execution_count": 11,
   "metadata": {
    "execution": {
     "iopub.execute_input": "2021-11-05T05:59:03.399905Z",
     "iopub.status.busy": "2021-11-05T05:59:03.399420Z",
     "iopub.status.idle": "2021-11-05T05:59:03.474324Z",
     "shell.execute_reply": "2021-11-05T05:59:03.473533Z",
     "shell.execute_reply.started": "2021-11-05T05:59:03.399871Z"
    }
   },
   "outputs": [],
   "source": [
    "len(os.listdir(test_dir+\"/NORMAL\"))"
   ]
  },
  {
   "cell_type": "code",
   "execution_count": 12,
   "metadata": {
    "execution": {
     "iopub.execute_input": "2021-11-05T05:59:03.476182Z",
     "iopub.status.busy": "2021-11-05T05:59:03.475766Z",
     "iopub.status.idle": "2021-11-05T05:59:03.712412Z",
     "shell.execute_reply": "2021-11-05T05:59:03.711414Z",
     "shell.execute_reply.started": "2021-11-05T05:59:03.476127Z"
    }
   },
   "outputs": [],
   "source": [
    "len(os.listdir(test_dir+\"/PNEUMONIA\"))"
   ]
  },
  {
   "cell_type": "markdown",
   "metadata": {},
   "source": [
    "### Observing a sample image of each X-ray\n",
    "- We will grab an image from the training set from each class"
   ]
  },
  {
   "cell_type": "code",
   "execution_count": 13,
   "metadata": {
    "execution": {
     "iopub.execute_input": "2021-11-05T05:59:03.714370Z",
     "iopub.status.busy": "2021-11-05T05:59:03.714082Z",
     "iopub.status.idle": "2021-11-05T05:59:03.720202Z",
     "shell.execute_reply": "2021-11-05T05:59:03.719386Z",
     "shell.execute_reply.started": "2021-11-05T05:59:03.714338Z"
    }
   },
   "outputs": [],
   "source": [
    "os.listdir(train_dir+\"/COVID19\")[0]"
   ]
  },
  {
   "cell_type": "code",
   "execution_count": 14,
   "metadata": {
    "execution": {
     "iopub.execute_input": "2021-11-05T05:59:03.722060Z",
     "iopub.status.busy": "2021-11-05T05:59:03.721484Z",
     "iopub.status.idle": "2021-11-05T05:59:03.769429Z",
     "shell.execute_reply": "2021-11-05T05:59:03.768643Z",
     "shell.execute_reply.started": "2021-11-05T05:59:03.722015Z"
    }
   },
   "outputs": [],
   "source": [
    "pneumonia_sample = imread(train_dir+\"/PNEUMONIA\"+\"/PNEUMONIA(3189).jpg\")"
   ]
  },
  {
   "cell_type": "code",
   "execution_count": 15,
   "metadata": {
    "execution": {
     "iopub.execute_input": "2021-11-05T05:59:03.770814Z",
     "iopub.status.busy": "2021-11-05T05:59:03.770417Z",
     "iopub.status.idle": "2021-11-05T05:59:04.056854Z",
     "shell.execute_reply": "2021-11-05T05:59:04.056104Z",
     "shell.execute_reply.started": "2021-11-05T05:59:03.770784Z"
    }
   },
   "outputs": [],
   "source": [
    "plt.imshow(pneumonia_sample)"
   ]
  },
  {
   "cell_type": "code",
   "execution_count": 16,
   "metadata": {
    "execution": {
     "iopub.execute_input": "2021-11-05T05:59:04.058184Z",
     "iopub.status.busy": "2021-11-05T05:59:04.057814Z",
     "iopub.status.idle": "2021-11-05T05:59:04.122143Z",
     "shell.execute_reply": "2021-11-05T05:59:04.121033Z",
     "shell.execute_reply.started": "2021-11-05T05:59:04.058155Z"
    }
   },
   "outputs": [],
   "source": [
    "normal_sample = imread(train_dir+\"/NORMAL\"+\"/NORMAL(342).jpg\")"
   ]
  },
  {
   "cell_type": "code",
   "execution_count": 17,
   "metadata": {
    "execution": {
     "iopub.execute_input": "2021-11-05T05:59:04.124189Z",
     "iopub.status.busy": "2021-11-05T05:59:04.123787Z",
     "iopub.status.idle": "2021-11-05T05:59:04.454668Z",
     "shell.execute_reply": "2021-11-05T05:59:04.453896Z",
     "shell.execute_reply.started": "2021-11-05T05:59:04.124145Z"
    }
   },
   "outputs": [],
   "source": [
    "plt.imshow(normal_sample)"
   ]
  },
  {
   "cell_type": "code",
   "execution_count": 18,
   "metadata": {
    "execution": {
     "iopub.execute_input": "2021-11-05T05:59:04.456151Z",
     "iopub.status.busy": "2021-11-05T05:59:04.455720Z",
     "iopub.status.idle": "2021-11-05T05:59:04.514913Z",
     "shell.execute_reply": "2021-11-05T05:59:04.514083Z",
     "shell.execute_reply.started": "2021-11-05T05:59:04.456108Z"
    }
   },
   "outputs": [],
   "source": [
    "covid_sample = imread(train_dir+\"/COVID19\"+\"/COVID19(189).jpg\")"
   ]
  },
  {
   "cell_type": "code",
   "execution_count": 19,
   "metadata": {
    "execution": {
     "iopub.execute_input": "2021-11-05T05:59:04.516433Z",
     "iopub.status.busy": "2021-11-05T05:59:04.516003Z",
     "iopub.status.idle": "2021-11-05T05:59:05.014291Z",
     "shell.execute_reply": "2021-11-05T05:59:05.013222Z",
     "shell.execute_reply.started": "2021-11-05T05:59:04.516389Z"
    }
   },
   "outputs": [],
   "source": [
    "plt.imshow(covid_sample, cmap= \"gray\")"
   ]
  },
  {
   "cell_type": "code",
   "execution_count": 20,
   "metadata": {
    "execution": {
     "iopub.execute_input": "2021-11-05T05:59:05.016311Z",
     "iopub.status.busy": "2021-11-05T05:59:05.015774Z",
     "iopub.status.idle": "2021-11-05T05:59:05.022925Z",
     "shell.execute_reply": "2021-11-05T05:59:05.021890Z",
     "shell.execute_reply.started": "2021-11-05T05:59:05.016264Z"
    }
   },
   "outputs": [],
   "source": [
    "covid_sample.shape"
   ]
  },
  {
   "cell_type": "code",
   "execution_count": 21,
   "metadata": {
    "execution": {
     "iopub.execute_input": "2021-11-05T05:59:05.024847Z",
     "iopub.status.busy": "2021-11-05T05:59:05.024294Z",
     "iopub.status.idle": "2021-11-05T05:59:05.034998Z",
     "shell.execute_reply": "2021-11-05T05:59:05.034082Z",
     "shell.execute_reply.started": "2021-11-05T05:59:05.024805Z"
    }
   },
   "outputs": [],
   "source": [
    "pneumonia_sample.shape"
   ]
  },
  {
   "cell_type": "code",
   "execution_count": 22,
   "metadata": {
    "execution": {
     "iopub.execute_input": "2021-11-05T05:59:05.036874Z",
     "iopub.status.busy": "2021-11-05T05:59:05.036271Z",
     "iopub.status.idle": "2021-11-05T05:59:05.048150Z",
     "shell.execute_reply": "2021-11-05T05:59:05.047075Z",
     "shell.execute_reply.started": "2021-11-05T05:59:05.036827Z"
    }
   },
   "outputs": [],
   "source": [
    "normal_sample.shape"
   ]
  },
  {
   "cell_type": "markdown",
   "metadata": {},
   "source": [
    "### Finding the average size of the images in the data\n",
    "- We will need to generate the average size of the the images to feed into the model\n",
    "- We will use the the training set using the Pneumonia images"
   ]
  },
  {
   "cell_type": "code",
   "execution_count": 23,
   "metadata": {
    "execution": {
     "iopub.execute_input": "2021-11-05T05:59:05.050056Z",
     "iopub.status.busy": "2021-11-05T05:59:05.049470Z",
     "iopub.status.idle": "2021-11-05T06:00:29.436354Z",
     "shell.execute_reply": "2021-11-05T06:00:29.435371Z",
     "shell.execute_reply.started": "2021-11-05T05:59:05.050013Z"
    }
   },
   "outputs": [],
   "source": [
    "dim1 = []\n",
    "dim2 = []\n",
    "\n",
    "for image_name in os.listdir(train_dir+\"/PNEUMONIA\"):\n",
    "    img = imread(train_dir+\"/PNEUMONIA/\"+image_name)\n",
    "    d1,d2,c = img.shape\n",
    "    dim1.append(d1)\n",
    "    dim2.append(d2)"
   ]
  },
  {
   "cell_type": "code",
   "execution_count": 24,
   "metadata": {
    "execution": {
     "iopub.execute_input": "2021-11-05T06:00:29.437783Z",
     "iopub.status.busy": "2021-11-05T06:00:29.437538Z",
     "iopub.status.idle": "2021-11-05T06:00:29.637516Z",
     "shell.execute_reply": "2021-11-05T06:00:29.636645Z",
     "shell.execute_reply.started": "2021-11-05T06:00:29.437759Z"
    }
   },
   "outputs": [],
   "source": [
    "plt.figure(figsize=(16,6))\n",
    "sns.scatterplot(dim1, dim2)"
   ]
  },
  {
   "cell_type": "code",
   "execution_count": 25,
   "metadata": {
    "execution": {
     "iopub.execute_input": "2021-11-05T06:00:29.639077Z",
     "iopub.status.busy": "2021-11-05T06:00:29.638797Z",
     "iopub.status.idle": "2021-11-05T06:00:29.646211Z",
     "shell.execute_reply": "2021-11-05T06:00:29.644948Z",
     "shell.execute_reply.started": "2021-11-05T06:00:29.639048Z"
    }
   },
   "outputs": [],
   "source": [
    "np.mean(dim1)"
   ]
  },
  {
   "cell_type": "code",
   "execution_count": 26,
   "metadata": {
    "execution": {
     "iopub.execute_input": "2021-11-05T06:00:29.648490Z",
     "iopub.status.busy": "2021-11-05T06:00:29.648014Z",
     "iopub.status.idle": "2021-11-05T06:00:29.657962Z",
     "shell.execute_reply": "2021-11-05T06:00:29.657048Z",
     "shell.execute_reply.started": "2021-11-05T06:00:29.648447Z"
    }
   },
   "outputs": [],
   "source": [
    "np.mean(dim2)"
   ]
  },
  {
   "cell_type": "markdown",
   "metadata": {},
   "source": [
    "### Average image size\n",
    "- 400wX400hx3channels\n",
    "- lowering dimension to decrease training time"
   ]
  },
  {
   "cell_type": "code",
   "execution_count": 27,
   "metadata": {
    "execution": {
     "iopub.execute_input": "2021-11-05T06:00:29.659096Z",
     "iopub.status.busy": "2021-11-05T06:00:29.658856Z",
     "iopub.status.idle": "2021-11-05T06:00:29.668760Z",
     "shell.execute_reply": "2021-11-05T06:00:29.667826Z",
     "shell.execute_reply.started": "2021-11-05T06:00:29.659072Z"
    }
   },
   "outputs": [],
   "source": [
    "average_image_size = (400,400,3)"
   ]
  },
  {
   "cell_type": "markdown",
   "metadata": {},
   "source": [
    "### Creating a image generator\n",
    "- This will allow us to minipulate and transform the images in the direcrtory as they are imported to them model for accurate training"
   ]
  },
  {
   "cell_type": "code",
   "execution_count": 28,
   "metadata": {
    "execution": {
     "iopub.execute_input": "2021-11-05T06:00:29.670868Z",
     "iopub.status.busy": "2021-11-05T06:00:29.670595Z",
     "iopub.status.idle": "2021-11-05T06:00:34.798411Z",
     "shell.execute_reply": "2021-11-05T06:00:34.797404Z",
     "shell.execute_reply.started": "2021-11-05T06:00:29.670841Z"
    }
   },
   "outputs": [],
   "source": [
    "from tensorflow.keras.preprocessing.image import ImageDataGenerator"
   ]
  },
  {
   "cell_type": "markdown",
   "metadata": {},
   "source": [
    "### Generator \n",
    "- We will minipulate the images below\n",
    "- WE will not flip the images because there will never be a point where we are scanning a patient up side down"
   ]
  },
  {
   "cell_type": "code",
   "execution_count": 29,
   "metadata": {
    "execution": {
     "iopub.execute_input": "2021-11-05T06:00:34.800836Z",
     "iopub.status.busy": "2021-11-05T06:00:34.800410Z",
     "iopub.status.idle": "2021-11-05T06:00:34.806946Z",
     "shell.execute_reply": "2021-11-05T06:00:34.805629Z",
     "shell.execute_reply.started": "2021-11-05T06:00:34.800793Z"
    }
   },
   "outputs": [],
   "source": [
    "generator = ImageDataGenerator(\n",
    "    rotation_range=0,\n",
    "    width_shift_range=0.1,\n",
    "    height_shift_range=0.1,\n",
    "    shear_range=0.1,\n",
    "    zoom_range=0.2,\n",
    "    fill_mode='nearest',\n",
    "    horizontal_flip=False,\n",
    "    vertical_flip=False,\n",
    "    rescale=1/255,\n",
    ")"
   ]
  },
  {
   "cell_type": "markdown",
   "metadata": {},
   "source": [
    "## Testing generator\n",
    "- We will test the generator on a random image \n",
    "- Lets use the Pneunonia sample image we generated earlier"
   ]
  },
  {
   "cell_type": "code",
   "execution_count": 30,
   "metadata": {
    "execution": {
     "iopub.execute_input": "2021-11-05T06:00:34.809136Z",
     "iopub.status.busy": "2021-11-05T06:00:34.808738Z",
     "iopub.status.idle": "2021-11-05T06:00:35.242207Z",
     "shell.execute_reply": "2021-11-05T06:00:35.241354Z",
     "shell.execute_reply.started": "2021-11-05T06:00:34.809093Z"
    }
   },
   "outputs": [],
   "source": [
    "plt.imshow(generator.random_transform(pneumonia_sample))"
   ]
  },
  {
   "cell_type": "markdown",
   "metadata": {},
   "source": [
    "### Generating Test and training generators\n",
    "- These are the generators that will be passed into the model for fitting\n",
    "- first we will check the class intances for each image in the directories"
   ]
  },
  {
   "cell_type": "code",
   "execution_count": 31,
   "metadata": {
    "execution": {
     "iopub.execute_input": "2021-11-05T06:00:35.243827Z",
     "iopub.status.busy": "2021-11-05T06:00:35.243539Z",
     "iopub.status.idle": "2021-11-05T06:00:35.359944Z",
     "shell.execute_reply": "2021-11-05T06:00:35.359040Z",
     "shell.execute_reply.started": "2021-11-05T06:00:35.243798Z"
    }
   },
   "outputs": [],
   "source": [
    "generator.flow_from_directory(test_dir)"
   ]
  },
  {
   "cell_type": "code",
   "execution_count": 32,
   "metadata": {
    "execution": {
     "iopub.execute_input": "2021-11-05T06:00:35.366625Z",
     "iopub.status.busy": "2021-11-05T06:00:35.366313Z",
     "iopub.status.idle": "2021-11-05T06:00:36.688885Z",
     "shell.execute_reply": "2021-11-05T06:00:36.687793Z",
     "shell.execute_reply.started": "2021-11-05T06:00:35.366596Z"
    }
   },
   "outputs": [],
   "source": [
    "generator.flow_from_directory(train_dir)"
   ]
  },
  {
   "cell_type": "code",
   "execution_count": 33,
   "metadata": {
    "execution": {
     "iopub.execute_input": "2021-11-05T06:00:36.691165Z",
     "iopub.status.busy": "2021-11-05T06:00:36.690753Z",
     "iopub.status.idle": "2021-11-05T06:00:36.911835Z",
     "shell.execute_reply": "2021-11-05T06:00:36.910718Z",
     "shell.execute_reply.started": "2021-11-05T06:00:36.691112Z"
    }
   },
   "outputs": [],
   "source": [
    "train_generator = generator.flow_from_directory (\n",
    "    train_dir,\n",
    "    target_size=average_image_size[:2],\n",
    "    color_mode='rgb',\n",
    "    class_mode='categorical',\n",
    "    batch_size=32,\n",
    "    shuffle=True,\n",
    ")"
   ]
  },
  {
   "cell_type": "markdown",
   "metadata": {},
   "source": [
    "## We do not shuffle images on the test generator \n",
    "- because this will suffle the labels as well and produce inaccurate labeling"
   ]
  },
  {
   "cell_type": "code",
   "execution_count": 34,
   "metadata": {
    "execution": {
     "iopub.execute_input": "2021-11-05T06:00:36.914102Z",
     "iopub.status.busy": "2021-11-05T06:00:36.913527Z",
     "iopub.status.idle": "2021-11-05T06:00:37.024200Z",
     "shell.execute_reply": "2021-11-05T06:00:37.023242Z",
     "shell.execute_reply.started": "2021-11-05T06:00:36.914055Z"
    }
   },
   "outputs": [],
   "source": [
    "test_generator = generator.flow_from_directory (\n",
    "    test_dir,\n",
    "    target_size=average_image_size[:2],\n",
    "    color_mode='rgb',\n",
    "    class_mode='categorical',\n",
    "    batch_size=32,\n",
    "    shuffle=False,\n",
    ")"
   ]
  },
  {
   "cell_type": "markdown",
   "metadata": {},
   "source": [
    "## Creating model \n",
    "- lets import the proper libraries through tensorflow and keras"
   ]
  },
  {
   "cell_type": "code",
   "execution_count": 35,
   "metadata": {
    "execution": {
     "iopub.execute_input": "2021-11-05T06:00:37.026120Z",
     "iopub.status.busy": "2021-11-05T06:00:37.025789Z",
     "iopub.status.idle": "2021-11-05T06:00:37.030615Z",
     "shell.execute_reply": "2021-11-05T06:00:37.029742Z",
     "shell.execute_reply.started": "2021-11-05T06:00:37.026078Z"
    }
   },
   "outputs": [],
   "source": [
    "from tensorflow.keras.models import Sequential\n",
    "from tensorflow.keras.layers import Conv2D, MaxPool2D, Flatten, Dense, Dropout\n",
    "from tensorflow.keras.callbacks import EarlyStopping"
   ]
  },
  {
   "cell_type": "markdown",
   "metadata": {},
   "source": [
    "### Early Stopping\n",
    "- This will set a limit on the training of our model to prevent overtraining"
   ]
  },
  {
   "cell_type": "code",
   "execution_count": 36,
   "metadata": {
    "execution": {
     "iopub.execute_input": "2021-11-05T06:00:37.032822Z",
     "iopub.status.busy": "2021-11-05T06:00:37.032330Z",
     "iopub.status.idle": "2021-11-05T06:00:37.044518Z",
     "shell.execute_reply": "2021-11-05T06:00:37.043639Z",
     "shell.execute_reply.started": "2021-11-05T06:00:37.032686Z"
    }
   },
   "outputs": [],
   "source": [
    "stop = EarlyStopping(monitor=\"val_loss\", mode=\"min\", patience=6)"
   ]
  },
  {
   "cell_type": "code",
   "execution_count": 37,
   "metadata": {
    "execution": {
     "iopub.execute_input": "2021-11-05T06:00:37.046249Z",
     "iopub.status.busy": "2021-11-05T06:00:37.045935Z",
     "iopub.status.idle": "2021-11-05T06:00:37.205042Z",
     "shell.execute_reply": "2021-11-05T06:00:37.203915Z",
     "shell.execute_reply.started": "2021-11-05T06:00:37.046206Z"
    }
   },
   "outputs": [],
   "source": [
    "model = Sequential()\n",
    "model.add(Conv2D(filters = 32, padding = \"same\", kernel_size = (2,2), strides = (2,2), activation = \"relu\", input_shape = average_image_size))\n",
    "model.add(MaxPool2D(pool_size = (2,2)))\n",
    "model.add(Conv2D(filters = 32, padding = \"same\", kernel_size = (2,2), strides = (2,2), activation = \"relu\", input_shape = average_image_size))\n",
    "model.add(MaxPool2D(pool_size = (2,2)))\n",
    "model.add(Conv2D(filters = 64, padding = \"same\", kernel_size = (2,2), strides = (2,2), activation = \"relu\", input_shape = average_image_size))\n",
    "model.add(MaxPool2D(pool_size = (2,2)))\n",
    "model.add(Flatten())\n",
    "model.add(Dense(units = 132, activation = \"relu\"))\n",
    "model.add(Dense(units = 60, activation = \"relu\"))\n",
    "model.add(Dense(units = 3, activation = \"softmax\"))\n",
    "model.compile(loss = \"categorical_crossentropy\", optimizer = \"adam\", metrics = [\"accuracy\"])"
   ]
  },
  {
   "cell_type": "code",
   "execution_count": 38,
   "metadata": {
    "execution": {
     "iopub.execute_input": "2021-11-05T06:00:37.206826Z",
     "iopub.status.busy": "2021-11-05T06:00:37.206484Z",
     "iopub.status.idle": "2021-11-05T06:09:08.058258Z",
     "shell.execute_reply": "2021-11-05T06:09:08.057085Z",
     "shell.execute_reply.started": "2021-11-05T06:00:37.206794Z"
    }
   },
   "outputs": [],
   "source": [
    "model.fit_generator(train_generator, validation_data=test_generator, epochs=1, callbacks=[stop])"
   ]
  },
  {
   "cell_type": "code",
   "execution_count": 39,
   "metadata": {
    "execution": {
     "iopub.execute_input": "2021-11-05T06:09:08.061389Z",
     "iopub.status.busy": "2021-11-05T06:09:08.060953Z",
     "iopub.status.idle": "2021-11-05T06:09:08.071564Z",
     "shell.execute_reply": "2021-11-05T06:09:08.070603Z",
     "shell.execute_reply.started": "2021-11-05T06:09:08.061355Z"
    }
   },
   "outputs": [],
   "source": [
    "model.summary()"
   ]
  },
  {
   "cell_type": "code",
   "execution_count": 40,
   "metadata": {
    "execution": {
     "iopub.execute_input": "2021-11-05T06:09:08.073193Z",
     "iopub.status.busy": "2021-11-05T06:09:08.072753Z",
     "iopub.status.idle": "2021-11-05T06:09:08.086557Z",
     "shell.execute_reply": "2021-11-05T06:09:08.085407Z",
     "shell.execute_reply.started": "2021-11-05T06:09:08.073164Z"
    }
   },
   "outputs": [],
   "source": [
    "model.metrics_names"
   ]
  },
  {
   "cell_type": "markdown",
   "metadata": {},
   "source": [
    "## Model History\n",
    "- We will take a look at the model training on the training data and validation data\n",
    "- The below diagrams lets us know that the model trained very well on the data and provided over 90% accuracy on the validation data \n",
    "- below we will made predictions to test our model \n",
    "- will also need to find a way to test the model on random data "
   ]
  },
  {
   "cell_type": "code",
   "execution_count": 41,
   "metadata": {
    "execution": {
     "iopub.execute_input": "2021-11-05T06:09:08.088419Z",
     "iopub.status.busy": "2021-11-05T06:09:08.087960Z",
     "iopub.status.idle": "2021-11-05T06:09:08.315914Z",
     "shell.execute_reply": "2021-11-05T06:09:08.315028Z",
     "shell.execute_reply.started": "2021-11-05T06:09:08.088386Z"
    }
   },
   "outputs": [],
   "source": [
    "pd.DataFrame(model.history.history)[[\"loss\", \"val_loss\"]].plot(figsize =(16,6), marker = \"o\", mfc = \"g\")"
   ]
  },
  {
   "cell_type": "code",
   "execution_count": 42,
   "metadata": {
    "execution": {
     "iopub.execute_input": "2021-11-05T06:09:08.317255Z",
     "iopub.status.busy": "2021-11-05T06:09:08.317004Z",
     "iopub.status.idle": "2021-11-05T06:09:08.490606Z",
     "shell.execute_reply": "2021-11-05T06:09:08.489595Z",
     "shell.execute_reply.started": "2021-11-05T06:09:08.317230Z"
    }
   },
   "outputs": [],
   "source": [
    "pd.DataFrame(model.history.history)[[\"accuracy\", \"val_accuracy\"]].plot(figsize =(16,6), marker = \"o\", mfc = \"g\")"
   ]
  },
  {
   "cell_type": "code",
   "execution_count": 43,
   "metadata": {
    "execution": {
     "iopub.execute_input": "2021-11-05T06:09:08.491981Z",
     "iopub.status.busy": "2021-11-05T06:09:08.491713Z",
     "iopub.status.idle": "2021-11-05T06:10:28.648126Z",
     "shell.execute_reply": "2021-11-05T06:10:28.647227Z",
     "shell.execute_reply.started": "2021-11-05T06:09:08.491954Z"
    }
   },
   "outputs": [],
   "source": [
    "predictions = model.predict(test_generator)"
   ]
  },
  {
   "cell_type": "markdown",
   "metadata": {},
   "source": [
    "## Predicitons\n",
    "- Below our predictions are presented in probabilities \n",
    "- we will need to convert these to the proper label so we can compare to our test generator"
   ]
  },
  {
   "cell_type": "code",
   "execution_count": 44,
   "metadata": {
    "execution": {
     "iopub.execute_input": "2021-11-05T06:10:28.650625Z",
     "iopub.status.busy": "2021-11-05T06:10:28.649910Z",
     "iopub.status.idle": "2021-11-05T06:10:28.658337Z",
     "shell.execute_reply": "2021-11-05T06:10:28.657601Z",
     "shell.execute_reply.started": "2021-11-05T06:10:28.650579Z"
    }
   },
   "outputs": [],
   "source": [
    "predictions"
   ]
  },
  {
   "cell_type": "code",
   "execution_count": 45,
   "metadata": {
    "execution": {
     "iopub.execute_input": "2021-11-05T06:10:28.660818Z",
     "iopub.status.busy": "2021-11-05T06:10:28.660060Z",
     "iopub.status.idle": "2021-11-05T06:10:28.668080Z",
     "shell.execute_reply": "2021-11-05T06:10:28.667385Z",
     "shell.execute_reply.started": "2021-11-05T06:10:28.660774Z"
    }
   },
   "outputs": [],
   "source": [
    "pred_labels = np.argmax(predictions, axis = 1)"
   ]
  },
  {
   "cell_type": "markdown",
   "metadata": {},
   "source": [
    "## Predicted classes \n",
    "- The predicted classes should match the length of test generator classes \n",
    "- Lets test this below"
   ]
  },
  {
   "cell_type": "code",
   "execution_count": 46,
   "metadata": {
    "execution": {
     "iopub.execute_input": "2021-11-05T06:10:28.673130Z",
     "iopub.status.busy": "2021-11-05T06:10:28.671245Z",
     "iopub.status.idle": "2021-11-05T06:10:28.680521Z",
     "shell.execute_reply": "2021-11-05T06:10:28.679840Z",
     "shell.execute_reply.started": "2021-11-05T06:10:28.673098Z"
    }
   },
   "outputs": [],
   "source": [
    "len(test_generator.classes)"
   ]
  },
  {
   "cell_type": "code",
   "execution_count": 47,
   "metadata": {
    "execution": {
     "iopub.execute_input": "2021-11-05T06:10:28.682218Z",
     "iopub.status.busy": "2021-11-05T06:10:28.681714Z",
     "iopub.status.idle": "2021-11-05T06:10:28.691318Z",
     "shell.execute_reply": "2021-11-05T06:10:28.690603Z",
     "shell.execute_reply.started": "2021-11-05T06:10:28.682185Z"
    }
   },
   "outputs": [],
   "source": [
    "len(pred_labels)"
   ]
  },
  {
   "cell_type": "markdown",
   "metadata": {},
   "source": [
    "### Report\n",
    "- We can see that the model is 92% accurate \n",
    "- also seems thsat the model seems to have some trouble with label 1 \n",
    "- we will we will take a look this below of which label this is\n",
    "- over all we can be happy with a 92 % accuracy in predictions"
   ]
  },
  {
   "cell_type": "markdown",
   "metadata": {},
   "source": [
    "### Random Image testing\n",
    "- Since we do not have random covid, pneumonia, or nurmal x-rays we will test the model on the data we already have and get a prediction on the label \n",
    "- lets pass the model random images from each clssificaiton and see if its accurate in predictions\n",
    "- we have to consider the image size that the image was trained on so we wil address this as well"
   ]
  },
  {
   "cell_type": "code",
   "execution_count": 49,
   "metadata": {
    "execution": {
     "iopub.execute_input": "2021-11-05T06:10:28.886542Z",
     "iopub.status.busy": "2021-11-05T06:10:28.885988Z",
     "iopub.status.idle": "2021-11-05T06:10:28.899525Z",
     "shell.execute_reply": "2021-11-05T06:10:28.898390Z",
     "shell.execute_reply.started": "2021-11-05T06:10:28.886469Z"
    }
   },
   "outputs": [],
   "source": [
    "print(classification_report(test_generator.classes, pred_labels))"
   ]
  },
  {
   "cell_type": "code",
   "execution_count": 50,
   "metadata": {
    "execution": {
     "iopub.execute_input": "2021-11-05T06:10:28.901444Z",
     "iopub.status.busy": "2021-11-05T06:10:28.900949Z",
     "iopub.status.idle": "2021-11-05T06:10:28.905244Z",
     "shell.execute_reply": "2021-11-05T06:10:28.904465Z",
     "shell.execute_reply.started": "2021-11-05T06:10:28.901410Z"
    }
   },
   "outputs": [],
   "source": [
    "from tensorflow.keras.preprocessing import image"
   ]
  },
  {
   "cell_type": "markdown",
   "metadata": {},
   "source": [
    "### Testing on covid image \n",
    "- Lets see if the model can predict on a covid image "
   ]
  },
  {
   "cell_type": "code",
   "execution_count": 51,
   "metadata": {
    "execution": {
     "iopub.execute_input": "2021-11-05T06:10:28.907871Z",
     "iopub.status.busy": "2021-11-05T06:10:28.907466Z",
     "iopub.status.idle": "2021-11-05T06:10:28.919026Z",
     "shell.execute_reply": "2021-11-05T06:10:28.918061Z",
     "shell.execute_reply.started": "2021-11-05T06:10:28.907830Z"
    }
   },
   "outputs": [],
   "source": [
    "from random import randint\n",
    "random_index = randint(1, len(os.listdir(train_dir+\"/COVID19\")))\n",
    "random_covid_image_name = os.listdir(train_dir+\"/COVID19\")[random_index]"
   ]
  },
  {
   "cell_type": "code",
   "execution_count": 52,
   "metadata": {
    "execution": {
     "iopub.execute_input": "2021-11-05T06:10:28.921342Z",
     "iopub.status.busy": "2021-11-05T06:10:28.920743Z",
     "iopub.status.idle": "2021-11-05T06:10:28.929935Z",
     "shell.execute_reply": "2021-11-05T06:10:28.928949Z",
     "shell.execute_reply.started": "2021-11-05T06:10:28.921297Z"
    }
   },
   "outputs": [],
   "source": [
    "random_covid_image_name"
   ]
  },
  {
   "cell_type": "code",
   "execution_count": 53,
   "metadata": {
    "execution": {
     "iopub.execute_input": "2021-11-05T06:10:28.932102Z",
     "iopub.status.busy": "2021-11-05T06:10:28.931671Z",
     "iopub.status.idle": "2021-11-05T06:10:28.939975Z",
     "shell.execute_reply": "2021-11-05T06:10:28.939147Z",
     "shell.execute_reply.started": "2021-11-05T06:10:28.932057Z"
    }
   },
   "outputs": [],
   "source": [
    "covid_img_path = train_dir+\"/COVID19/\"+random_covid_image_name"
   ]
  },
  {
   "cell_type": "code",
   "execution_count": 54,
   "metadata": {
    "execution": {
     "iopub.execute_input": "2021-11-05T06:10:28.941927Z",
     "iopub.status.busy": "2021-11-05T06:10:28.941325Z",
     "iopub.status.idle": "2021-11-05T06:10:28.981792Z",
     "shell.execute_reply": "2021-11-05T06:10:28.980916Z",
     "shell.execute_reply.started": "2021-11-05T06:10:28.941883Z"
    }
   },
   "outputs": [],
   "source": [
    "random_covid_img = image.load_img(covid_img_path, target_size=average_image_size)"
   ]
  },
  {
   "cell_type": "code",
   "execution_count": 55,
   "metadata": {
    "execution": {
     "iopub.execute_input": "2021-11-05T06:10:28.983460Z",
     "iopub.status.busy": "2021-11-05T06:10:28.983022Z",
     "iopub.status.idle": "2021-11-05T06:10:29.044668Z",
     "shell.execute_reply": "2021-11-05T06:10:29.043751Z",
     "shell.execute_reply.started": "2021-11-05T06:10:28.983422Z"
    }
   },
   "outputs": [],
   "source": [
    "random_covid_img"
   ]
  },
  {
   "cell_type": "code",
   "execution_count": 56,
   "metadata": {
    "execution": {
     "iopub.execute_input": "2021-11-05T06:10:29.046485Z",
     "iopub.status.busy": "2021-11-05T06:10:29.046188Z",
     "iopub.status.idle": "2021-11-05T06:10:29.050802Z",
     "shell.execute_reply": "2021-11-05T06:10:29.050086Z",
     "shell.execute_reply.started": "2021-11-05T06:10:29.046455Z"
    }
   },
   "outputs": [],
   "source": [
    "random_covid_img_array = image.img_to_array(random_covid_img)"
   ]
  },
  {
   "cell_type": "markdown",
   "metadata": {},
   "source": [
    "### Reshaping\n",
    "- The image is in the proper shape but our dimensions are off \n",
    "- we wneed to alert the model that we are passing in 1 image, so we need our first layer of the array to be 1\n",
    "- numpy expand dimensions feature will allow us to do this easily "
   ]
  },
  {
   "cell_type": "code",
   "execution_count": 57,
   "metadata": {
    "execution": {
     "iopub.execute_input": "2021-11-05T06:10:29.052277Z",
     "iopub.status.busy": "2021-11-05T06:10:29.051886Z",
     "iopub.status.idle": "2021-11-05T06:10:29.067623Z",
     "shell.execute_reply": "2021-11-05T06:10:29.066678Z",
     "shell.execute_reply.started": "2021-11-05T06:10:29.052236Z"
    }
   },
   "outputs": [],
   "source": [
    "random_covid_img_array.shape"
   ]
  },
  {
   "cell_type": "code",
   "execution_count": 58,
   "metadata": {
    "execution": {
     "iopub.execute_input": "2021-11-05T06:10:29.069185Z",
     "iopub.status.busy": "2021-11-05T06:10:29.068758Z",
     "iopub.status.idle": "2021-11-05T06:10:29.077602Z",
     "shell.execute_reply": "2021-11-05T06:10:29.076704Z",
     "shell.execute_reply.started": "2021-11-05T06:10:29.069146Z"
    }
   },
   "outputs": [],
   "source": [
    "covid_img_array = np.expand_dims(random_covid_img_array, axis=0)"
   ]
  },
  {
   "cell_type": "code",
   "execution_count": 59,
   "metadata": {
    "execution": {
     "iopub.execute_input": "2021-11-05T06:10:29.079108Z",
     "iopub.status.busy": "2021-11-05T06:10:29.078733Z",
     "iopub.status.idle": "2021-11-05T06:10:29.093095Z",
     "shell.execute_reply": "2021-11-05T06:10:29.091837Z",
     "shell.execute_reply.started": "2021-11-05T06:10:29.079081Z"
    }
   },
   "outputs": [],
   "source": [
    "covid_img_array.shape"
   ]
  },
  {
   "cell_type": "markdown",
   "metadata": {},
   "source": [
    "### Prediction of new image (Covid 19 image) \n",
    "- Model predict that the image is classify as label 0\n",
    "- To check is this is correct we need to look at the class indicies of out test_generator\n",
    "- keep in mind we are intentionally passing in a covid image for testing"
   ]
  },
  {
   "cell_type": "code",
   "execution_count": 60,
   "metadata": {
    "execution": {
     "iopub.execute_input": "2021-11-05T06:10:29.095376Z",
     "iopub.status.busy": "2021-11-05T06:10:29.094971Z",
     "iopub.status.idle": "2021-11-05T06:10:29.203858Z",
     "shell.execute_reply": "2021-11-05T06:10:29.202985Z",
     "shell.execute_reply.started": "2021-11-05T06:10:29.095333Z"
    }
   },
   "outputs": [],
   "source": [
    "np.argmax(model.predict(covid_img_array), axis =1)"
   ]
  },
  {
   "cell_type": "code",
   "execution_count": 61,
   "metadata": {
    "execution": {
     "iopub.execute_input": "2021-11-05T06:10:29.205679Z",
     "iopub.status.busy": "2021-11-05T06:10:29.205353Z",
     "iopub.status.idle": "2021-11-05T06:10:29.211031Z",
     "shell.execute_reply": "2021-11-05T06:10:29.210089Z",
     "shell.execute_reply.started": "2021-11-05T06:10:29.205647Z"
    }
   },
   "outputs": [],
   "source": [
    "test_generator.class_indices"
   ]
  },
  {
   "cell_type": "markdown",
   "metadata": {},
   "source": [
    "### Metrics\n",
    "- Using Sklearn we will use classification report to see the accuracy of the predictions per class"
   ]
  },
  {
   "cell_type": "code",
   "execution_count": 48,
   "metadata": {
    "execution": {
     "iopub.execute_input": "2021-11-05T06:10:28.693091Z",
     "iopub.status.busy": "2021-11-05T06:10:28.692654Z",
     "iopub.status.idle": "2021-11-05T06:10:28.884379Z",
     "shell.execute_reply": "2021-11-05T06:10:28.883358Z",
     "shell.execute_reply.started": "2021-11-05T06:10:28.693062Z"
    }
   },
   "outputs": [],
   "source": [
    "from sklearn.metrics import confusion_matrix, classification_report"
   ]
  },
  {
   "cell_type": "code",
   "execution_count": 69,
   "metadata": {
    "execution": {
     "iopub.execute_input": "2021-11-05T06:27:54.699246Z",
     "iopub.status.busy": "2021-11-05T06:27:54.698807Z",
     "iopub.status.idle": "2021-11-05T06:27:54.985882Z",
     "shell.execute_reply": "2021-11-05T06:27:54.984397Z",
     "shell.execute_reply.started": "2021-11-05T06:27:54.699205Z"
    }
   },
   "outputs": [],
   "source": [
    "classes = [\"COVID19\", \"NORMAL\", \"PNEUMONIA\"]\n",
    "\n",
    "predictions = np.array(list(map(lambda x: np.argmax(x), predictions)))\n",
    "\n",
    "y_true=test_generator.classes\n",
    "\n",
    "CMatrix = pd.DataFrame(confusion_matrix(y_true, predictions), columns=classes, index =classes)\n",
    "\n",
    "plt.figure(figsize=(12, 6))\n",
    "ax = sns.heatmap(CMatrix, annot = True, fmt = 'g' ,vmin = 0, vmax = 250,cmap = 'Blues')\n",
    "ax.set_xlabel('Predicted',fontsize = 14,weight = 'bold')\n",
    "ax.set_xticklabels(ax.get_xticklabels(),rotation =0);\n",
    "\n",
    "ax.set_ylabel('Actual',fontsize = 14,weight = 'bold') \n",
    "ax.set_yticklabels(ax.get_yticklabels(),rotation =0);\n",
    "ax.set_title('Confusion Matrix - Test Set',fontsize = 16,weight = 'bold',pad=20);"
   ]
  },
  {
   "cell_type": "markdown",
   "metadata": {},
   "source": [
    "# Visualization"
   ]
  },
  {
   "cell_type": "code",
   "execution_count": 63,
   "metadata": {
    "execution": {
     "iopub.execute_input": "2021-11-05T06:10:29.225272Z",
     "iopub.status.busy": "2021-11-05T06:10:29.224762Z",
     "iopub.status.idle": "2021-11-05T06:10:30.469436Z",
     "shell.execute_reply": "2021-11-05T06:10:30.468462Z",
     "shell.execute_reply.started": "2021-11-05T06:10:29.225233Z"
    }
   },
   "outputs": [],
   "source": [
    "from skimage.segmentation import mark_boundaries\n",
    "import lime\n",
    "from lime import lime_image\n",
    "import cv2"
   ]
  },
  {
   "cell_type": "code",
   "execution_count": 64,
   "metadata": {
    "execution": {
     "iopub.execute_input": "2021-11-05T06:10:30.470892Z",
     "iopub.status.busy": "2021-11-05T06:10:30.470639Z",
     "iopub.status.idle": "2021-11-05T06:10:30.476460Z",
     "shell.execute_reply": "2021-11-05T06:10:30.475741Z",
     "shell.execute_reply.started": "2021-11-05T06:10:30.470867Z"
    }
   },
   "outputs": [],
   "source": [
    "def visualize(file_path):\n",
    "    test_image = cv2.imread(data_dir + file_path)\n",
    "    test_image = cv2.resize(test_image,(400,400),interpolation=cv2.INTER_NEAREST)\n",
    "    test_image = np.expand_dims(test_image, axis=0)\n",
    "\n",
    "    explainer = lime_image.LimeImageExplainer()\n",
    "    explanation = explainer.explain_instance(test_image[0], model.predict, top_labels=5, hide_color=0, num_samples=1000)\n",
    "    temp, mask = explanation.get_image_and_mask(explanation.top_labels[0], positive_only=True, num_features=5, hide_rest=False)\n",
    "\n",
    "    plt.imshow(mark_boundaries(temp, mask))"
   ]
  },
  {
   "cell_type": "code",
   "execution_count": 66,
   "metadata": {
    "execution": {
     "iopub.execute_input": "2021-11-05T06:11:27.727212Z",
     "iopub.status.busy": "2021-11-05T06:11:27.726870Z",
     "iopub.status.idle": "2021-11-05T06:11:50.589956Z",
     "shell.execute_reply": "2021-11-05T06:11:50.588913Z",
     "shell.execute_reply.started": "2021-11-05T06:11:27.727183Z"
    }
   },
   "outputs": [],
   "source": [
    "visualize('/train/COVID19/COVID19(25).jpg')"
   ]
  }
 ],
 "metadata": {
  "kernelspec": {
   "display_name": "Python 3",
   "language": "python",
   "name": "python3"
  },
  "language_info": {
   "codemirror_mode": {
    "name": "ipython",
    "version": 3
   },
   "file_extension": ".py",
   "mimetype": "text/x-python",
   "name": "python",
   "nbconvert_exporter": "python",
   "pygments_lexer": "ipython3",
   "version": "3.8.8"
  }
 },
 "nbformat": 4,
 "nbformat_minor": 4
}
