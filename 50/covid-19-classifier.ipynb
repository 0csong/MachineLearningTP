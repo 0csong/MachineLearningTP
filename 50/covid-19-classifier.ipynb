{
 "cells": [
  {
   "cell_type": "code",
   "execution_count": 1,
   "metadata": {
    "_cell_guid": "b1076dfc-b9ad-4769-8c92-a6c4dae69d19",
    "_uuid": "8f2839f25d086af736a60e9eeb907d3b93b6e0e5",
    "execution": {
     "iopub.execute_input": "2021-11-09T17:20:18.300199Z",
     "iopub.status.busy": "2021-11-09T17:20:18.299838Z",
     "iopub.status.idle": "2021-11-09T17:20:18.306708Z",
     "shell.execute_reply": "2021-11-09T17:20:18.305928Z",
     "shell.execute_reply.started": "2021-11-09T17:20:18.300159Z"
    }
   },
   "outputs": [],
   "source": [
    "# This Python 3 environment comes with many helpful analytics libraries installed\n",
    "# It is defined by the kaggle/python Docker image: https://github.com/kaggle/docker-python\n",
    "# For example, here's several helpful packages to load\n",
    "\n",
    "import numpy as np # linear algebra\n",
    "import pandas as pd # data processing, CSV file I/O (e.g. pd.read_csv)\n",
    "import seaborn as sns\n",
    "import matplotlib.pyplot as plt\n",
    "import matplotlib.image as mpimg\n",
    "from matplotlib.offsetbox import OffsetImage, AnnotationBbox\n",
    "from glob import glob\n",
    "from PIL import Image\n",
    "import os\n",
    "import random\n",
    "# You can write up to 20GB to the current directory (/kaggle/working/) that gets preserved as output when you create a version using \"Save & Run All\" \n",
    "# You can also write temporary files to /kaggle/temp/, but they won't be saved outside of the current session"
   ]
  },
  {
   "cell_type": "code",
   "execution_count": 4,
   "metadata": {
    "execution": {
     "iopub.execute_input": "2021-11-09T17:20:18.309373Z",
     "iopub.status.busy": "2021-11-09T17:20:18.308806Z",
     "iopub.status.idle": "2021-11-09T17:20:18.318415Z",
     "shell.execute_reply": "2021-11-09T17:20:18.317521Z",
     "shell.execute_reply.started": "2021-11-09T17:20:18.309333Z"
    }
   },
   "outputs": [],
   "source": [
    "#Model\n",
    "import tensorflow as tf\n",
    "from tensorflow.keras.models import Sequential, Model,load_model\n",
    "from tensorflow.keras.layers import Activation,Dense, Dropout, Flatten, Conv2D, MaxPooling2D,MaxPool2D,AveragePooling2D,GlobalMaxPooling2D\n",
    "from tensorflow.keras import backend as K\n",
    "from tensorflow.keras.wrappers.scikit_learn import KerasClassifier\n",
    "from tensorflow.keras.layers import BatchNormalization\n",
    "from tensorflow.keras.utils import to_categorical # convert to one-hot-encoding\n",
    "from tensorflow.keras import regularizers\n",
    "from tensorflow.keras.optimizers import Adam, SGD\n",
    "from tensorflow.keras.preprocessing.image import ImageDataGenerator,array_to_img\n",
    "from tensorflow.keras.callbacks import ReduceLROnPlateau, EarlyStopping,ModelCheckpoint\n",
    "from tensorflow.keras.metrics import PrecisionAtRecall,Recall\n",
    "\n"
   ]
  },
  {
   "cell_type": "code",
   "execution_count": 61,
   "metadata": {
    "execution": {
     "iopub.execute_input": "2021-11-09T17:20:18.320075Z",
     "iopub.status.busy": "2021-11-09T17:20:18.319693Z",
     "iopub.status.idle": "2021-11-09T17:20:18.332323Z",
     "shell.execute_reply": "2021-11-09T17:20:18.331567Z",
     "shell.execute_reply.started": "2021-11-09T17:20:18.320042Z"
    }
   },
   "outputs": [],
   "source": [
    "tf.config.list_physical_devices(\"GPU\")"
   ]
  },
  {
   "cell_type": "code",
   "execution_count": 3,
   "metadata": {
    "execution": {
     "iopub.execute_input": "2021-11-09T17:20:18.333929Z",
     "iopub.status.busy": "2021-11-09T17:20:18.333666Z",
     "iopub.status.idle": "2021-11-09T17:20:18.340567Z",
     "shell.execute_reply": "2021-11-09T17:20:18.339735Z",
     "shell.execute_reply.started": "2021-11-09T17:20:18.333896Z"
    }
   },
   "outputs": [],
   "source": [
    "from sklearn.metrics import confusion_matrix, classification_report\n",
    "from sklearn.metrics import precision_recall_fscore_support, accuracy_score"
   ]
  },
  {
   "cell_type": "code",
   "execution_count": 63,
   "metadata": {
    "execution": {
     "iopub.execute_input": "2021-11-09T17:20:18.343422Z",
     "iopub.status.busy": "2021-11-09T17:20:18.343128Z",
     "iopub.status.idle": "2021-11-09T17:20:18.348907Z",
     "shell.execute_reply": "2021-11-09T17:20:18.347919Z",
     "shell.execute_reply.started": "2021-11-09T17:20:18.343389Z"
    }
   },
   "outputs": [],
   "source": [
    "from numpy.random import seed\n",
    "seed(0)"
   ]
  },
  {
   "cell_type": "code",
   "execution_count": 64,
   "metadata": {
    "execution": {
     "iopub.execute_input": "2021-11-09T17:20:18.350860Z",
     "iopub.status.busy": "2021-11-09T17:20:18.350599Z",
     "iopub.status.idle": "2021-11-09T17:20:18.437377Z",
     "shell.execute_reply": "2021-11-09T17:20:18.436437Z",
     "shell.execute_reply.started": "2021-11-09T17:20:18.350827Z"
    }
   },
   "outputs": [],
   "source": [
    "tf.random.set_seed(0)"
   ]
  },
  {
   "cell_type": "code",
   "execution_count": 65,
   "metadata": {
    "execution": {
     "iopub.execute_input": "2021-11-09T17:20:18.442502Z",
     "iopub.status.busy": "2021-11-09T17:20:18.442254Z",
     "iopub.status.idle": "2021-11-09T17:20:18.470179Z",
     "shell.execute_reply": "2021-11-09T17:20:18.469426Z",
     "shell.execute_reply.started": "2021-11-09T17:20:18.442466Z"
    }
   },
   "outputs": [],
   "source": [
    "path = '../input/chest-xray-covid19-pneumonia/Data/train'\n",
    "\n",
    "diag_code_dict = {\n",
    "    'COVID19': 0,\n",
    "    'NORMAL': 1,\n",
    "    'PNEUMONIA': 2}\n",
    "\n",
    "diag_title_dict = {\n",
    "    'COVID19': 'Covid-19',\n",
    "    'NORMAL': 'Healthy',\n",
    "    'PNEUMONIA': 'Pneumonia'}\n",
    "\n",
    "imageid_path_dict = {os.path.splitext(os.path.basename(x))[0]: x for x in glob(os.path.join(path, '*','*.png'))}\n",
    "\n",
    "imageid_path_dict"
   ]
  },
  {
   "cell_type": "code",
   "execution_count": 66,
   "metadata": {
    "execution": {
     "iopub.execute_input": "2021-11-09T17:20:18.471825Z",
     "iopub.status.busy": "2021-11-09T17:20:18.471562Z",
     "iopub.status.idle": "2021-11-09T17:20:19.369199Z",
     "shell.execute_reply": "2021-11-09T17:20:19.368371Z",
     "shell.execute_reply.started": "2021-11-09T17:20:18.471775Z"
    }
   },
   "outputs": [],
   "source": [
    "\n",
    "\n",
    "test_path = '../input/chest-xray-covid19-pneumonia/Data/test/'\n",
    "train_path = '../input/chest-xray-covid19-pneumonia/Data/train/'\n",
    "\n",
    "classes = [\"COVID19\", \"NORMAL\", \"PNEUMONIA\"]\n",
    "num_classes = len(classes)\n",
    "batch_size = 16\n",
    "\n",
    "train_datagen = ImageDataGenerator(rescale=1./255,\n",
    "                                  rotation_range=20,\n",
    "                                  width_shift_range=0.2,\n",
    "                                  height_shift_range=0.2,\n",
    "                                  horizontal_flip=True, validation_split=0.001)\n",
    "\n",
    "test_datagen = ImageDataGenerator(rescale=1./255,\n",
    "                                 validation_split=0.999)\n",
    "\n",
    "train_gen = train_datagen.flow_from_directory(directory=train_path,\n",
    "                                             target_size=(299, 299),\n",
    "                                             class_mode='categorical',\n",
    "                                             subset='training',\n",
    "                                             shuffle=True, classes=classes,\n",
    "                                             batch_size=batch_size,\n",
    "                                             )\n",
    "\n",
    "test_gen = test_datagen.flow_from_directory(directory=test_path,\n",
    "                                             target_size=(299, 299),\n",
    "                                             class_mode='categorical',\n",
    "                                             subset='validation',\n",
    "                                             shuffle=False, classes=classes,\n",
    "                                             batch_size=batch_size,\n",
    "                                             )"
   ]
  },
  {
   "cell_type": "code",
   "execution_count": 67,
   "metadata": {
    "execution": {
     "iopub.execute_input": "2021-11-09T17:20:19.372223Z",
     "iopub.status.busy": "2021-11-09T17:20:19.371859Z",
     "iopub.status.idle": "2021-11-09T17:20:19.379359Z",
     "shell.execute_reply": "2021-11-09T17:20:19.378614Z",
     "shell.execute_reply.started": "2021-11-09T17:20:19.372182Z"
    }
   },
   "outputs": [],
   "source": [
    "# model = Sequential()\n",
    "# model.add(Conv2D(32, (3,3), activation='relu', padding='Same', input_shape=(299, 299, 1)))\n",
    "# model.add(BatchNormalization())\n",
    "\n",
    "# ################\n",
    "\n",
    "# model.add(Conv2D(64, (3,3), activation='relu', padding='Same'))\n",
    "# model.add(BatchNormalization())\n",
    "# model.add(AveragePooling2D(pool_size = (2,2)))\n",
    "# model.add(Dropout(0.25))\n",
    "\n",
    "# model.add(Conv2D(64, (3,3), activation='relu', padding='Same'))\n",
    "# model.add(BatchNormalization())\n",
    "\n",
    "# model.add(Conv2D(64, (3,3), activation='relu', padding='Same'))\n",
    "# model.add(BatchNormalization())\n",
    "# model.add(AveragePooling2D(pool_size = (2,2)))\n",
    "# model.add(Dropout(0.25))\n",
    "\n",
    "# #################\n",
    "\n",
    "# model.add(Conv2D(64, (3,3), activation='relu', padding='Same'))\n",
    "# model.add(BatchNormalization())\n",
    "# model.add(AveragePooling2D(pool_size = (2,2)))\n",
    "# model.add(Dropout(0.25))\n",
    "\n",
    "# model.add(Conv2D(64, (3,3), activation='relu', padding='Same'))\n",
    "# model.add(BatchNormalization())\n",
    "\n",
    "# model.add(Conv2D(64, (3,3), activation='relu', padding='Same'))\n",
    "# model.add(BatchNormalization())\n",
    "# model.add(AveragePooling2D(pool_size = (2,2)))\n",
    "# model.add(Dropout(0.25))\n",
    "\n",
    "# #################\n",
    "\n",
    "# model.add(Flatten())\n",
    "\n",
    "# model.add(BatchNormalization())\n",
    "# model.add(Dense(128, activation='relu'))\n",
    "# model.add(Activation('relu'))\n",
    "# model.add(Dropout(0.25))\n",
    "\n",
    "# #Output \n",
    "# model.add(BatchNormalization())\n",
    "# model.add(Dense(num_classes, activation='softmax'))"
   ]
  },
  {
   "cell_type": "code",
   "execution_count": 68,
   "metadata": {
    "execution": {
     "iopub.execute_input": "2021-11-09T17:20:19.382952Z",
     "iopub.status.busy": "2021-11-09T17:20:19.382372Z",
     "iopub.status.idle": "2021-11-09T17:20:19.389512Z",
     "shell.execute_reply": "2021-11-09T17:20:19.388777Z",
     "shell.execute_reply.started": "2021-11-09T17:20:19.382713Z"
    }
   },
   "outputs": [],
   "source": [
    "#transfer_model = tf.keras.applications.ResNet152(weights = 'imagenet', include_top = False, input_shape = (197,197,3))"
   ]
  },
  {
   "cell_type": "code",
   "execution_count": 69,
   "metadata": {
    "execution": {
     "iopub.execute_input": "2021-11-09T17:20:19.391239Z",
     "iopub.status.busy": "2021-11-09T17:20:19.390850Z",
     "iopub.status.idle": "2021-11-09T17:20:19.398939Z",
     "shell.execute_reply": "2021-11-09T17:20:19.398128Z",
     "shell.execute_reply.started": "2021-11-09T17:20:19.391196Z"
    }
   },
   "outputs": [],
   "source": [
    "# from tensorflow.keras.applications import VGG16\n",
    "# transfer_model = VGG16(weights='imagenet', include_top=False, input_shape=(300, 300, 3))\n",
    "# transfer_model.trainable=False"
   ]
  },
  {
   "cell_type": "code",
   "execution_count": 70,
   "metadata": {
    "execution": {
     "iopub.execute_input": "2021-11-09T17:20:19.401222Z",
     "iopub.status.busy": "2021-11-09T17:20:19.400907Z",
     "iopub.status.idle": "2021-11-09T17:20:20.534438Z",
     "shell.execute_reply": "2021-11-09T17:20:20.533595Z",
     "shell.execute_reply.started": "2021-11-09T17:20:19.401188Z"
    }
   },
   "outputs": [],
   "source": [
    "transfer_model = tf.keras.applications.Xception(\n",
    "    weights='imagenet',  # Load weights pre-trained on ImageNet.\n",
    "    input_shape=(299, 299, 3),\n",
    "    include_top=False)"
   ]
  },
  {
   "cell_type": "code",
   "execution_count": 71,
   "metadata": {
    "execution": {
     "iopub.execute_input": "2021-11-09T17:20:20.536745Z",
     "iopub.status.busy": "2021-11-09T17:20:20.536467Z",
     "iopub.status.idle": "2021-11-09T17:20:20.942508Z",
     "shell.execute_reply": "2021-11-09T17:20:20.941605Z",
     "shell.execute_reply.started": "2021-11-09T17:20:20.536709Z"
    }
   },
   "outputs": [],
   "source": [
    "model = Sequential([\n",
    "    transfer_model, \n",
    "    Conv2D(64, (3,3), activation='relu', padding='Same'),\n",
    "    BatchNormalization(),\n",
    "    AveragePooling2D(pool_size = (2,2)),\n",
    "    Dropout(0.25),\n",
    "    Flatten(), \n",
    "    BatchNormalization(),\n",
    "    Dense(128, activation='relu'), \n",
    "    Dropout(0.25),\n",
    "    BatchNormalization(),\n",
    "    Dense(num_classes, activation='softmax')\n",
    "])"
   ]
  },
  {
   "cell_type": "code",
   "execution_count": 72,
   "metadata": {
    "execution": {
     "iopub.execute_input": "2021-11-09T17:20:20.945758Z",
     "iopub.status.busy": "2021-11-09T17:20:20.943830Z",
     "iopub.status.idle": "2021-11-09T17:20:20.968724Z",
     "shell.execute_reply": "2021-11-09T17:20:20.967920Z",
     "shell.execute_reply.started": "2021-11-09T17:20:20.945719Z"
    }
   },
   "outputs": [],
   "source": [
    "model.summary()"
   ]
  },
  {
   "cell_type": "code",
   "execution_count": 73,
   "metadata": {
    "execution": {
     "iopub.execute_input": "2021-11-09T17:20:20.970235Z",
     "iopub.status.busy": "2021-11-09T17:20:20.969973Z",
     "iopub.status.idle": "2021-11-09T17:20:20.988045Z",
     "shell.execute_reply": "2021-11-09T17:20:20.986977Z",
     "shell.execute_reply.started": "2021-11-09T17:20:20.970204Z"
    }
   },
   "outputs": [],
   "source": [
    "opt = Adam(lr=0.002, beta_1=0.9, beta_2=0.999, epsilon=None, decay=0.1, amsgrad=False)\n",
    "model.compile(optimizer=opt, loss='categorical_crossentropy', metrics=['acc'])"
   ]
  },
  {
   "cell_type": "code",
   "execution_count": 74,
   "metadata": {
    "execution": {
     "iopub.execute_input": "2021-11-09T17:20:20.990878Z",
     "iopub.status.busy": "2021-11-09T17:20:20.990590Z",
     "iopub.status.idle": "2021-11-09T17:20:21.193356Z",
     "shell.execute_reply": "2021-11-09T17:20:21.192515Z",
     "shell.execute_reply.started": "2021-11-09T17:20:20.990843Z"
    }
   },
   "outputs": [],
   "source": [
    "from tensorflow import keras\n",
    "\n",
    "keras.utils.plot_model(model)"
   ]
  },
  {
   "cell_type": "code",
   "execution_count": 75,
   "metadata": {
    "execution": {
     "iopub.execute_input": "2021-11-09T17:20:21.195600Z",
     "iopub.status.busy": "2021-11-09T17:20:21.195010Z",
     "iopub.status.idle": "2021-11-09T17:36:58.821727Z",
     "shell.execute_reply": "2021-11-09T17:36:58.820675Z",
     "shell.execute_reply.started": "2021-11-09T17:20:21.195562Z"
    }
   },
   "outputs": [],
   "source": [
    "epochs=50\n",
    "\n",
    "#callback\n",
    "\n",
    "history = model.fit(train_gen,\n",
    "                    steps_per_epoch=len(train_gen) // batch_size,\n",
    "                    validation_steps=len(test_gen) // batch_size,\n",
    "                    validation_data=test_gen, epochs=epochs)"
   ]
  },
  {
   "cell_type": "code",
   "execution_count": 76,
   "metadata": {
    "execution": {
     "iopub.execute_input": "2021-11-09T17:36:58.828903Z",
     "iopub.status.busy": "2021-11-09T17:36:58.826761Z",
     "iopub.status.idle": "2021-11-09T17:37:38.262951Z",
     "shell.execute_reply": "2021-11-09T17:37:38.262209Z",
     "shell.execute_reply.started": "2021-11-09T17:36:58.828860Z"
    }
   },
   "outputs": [],
   "source": [
    "y_pred = model.predict(test_gen)"
   ]
  },
  {
   "cell_type": "code",
   "execution_count": 77,
   "metadata": {
    "execution": {
     "iopub.execute_input": "2021-11-09T17:37:38.267844Z",
     "iopub.status.busy": "2021-11-09T17:37:38.267339Z",
     "iopub.status.idle": "2021-11-09T17:37:38.274258Z",
     "shell.execute_reply": "2021-11-09T17:37:38.273478Z",
     "shell.execute_reply.started": "2021-11-09T17:37:38.267810Z"
    }
   },
   "outputs": [],
   "source": [
    "history.history.keys()"
   ]
  },
  {
   "cell_type": "code",
   "execution_count": 78,
   "metadata": {
    "execution": {
     "iopub.execute_input": "2021-11-09T17:37:38.276574Z",
     "iopub.status.busy": "2021-11-09T17:37:38.275956Z",
     "iopub.status.idle": "2021-11-09T17:37:38.845339Z",
     "shell.execute_reply": "2021-11-09T17:37:38.844638Z",
     "shell.execute_reply.started": "2021-11-09T17:37:38.276525Z"
    }
   },
   "outputs": [],
   "source": [
    "fig, axarr = plt.subplots(1,2, figsize=(15,5), sharex=True)\n",
    "\n",
    "sns.set(style=\"ticks\", font_scale = 1)\n",
    "sns.despine(top=True, right=True, left=False, bottom=False)\n",
    "\n",
    "historyDF = pd.DataFrame.from_dict(history.history)\n",
    "ax = sns.lineplot(x = historyDF.index, y = history.history['acc'], ax=axarr[0], label=\"Training\");\n",
    "ax = sns.lineplot(x = historyDF.index, y = history.history['val_acc'], ax=axarr[0], label=\"Validation\");\n",
    "ax.set_ylabel('Accuracy')\n",
    "\n",
    "ax = sns.lineplot(x = historyDF.index, y = history.history['loss'], ax=axarr[1], label=\"Training\");\n",
    "ax = sns.lineplot(x = historyDF.index, y = history.history['val_loss'], ax=axarr[1], label=\"Validation\");\n",
    "ax.set_ylabel('Loss')\n",
    "\n",
    "\n",
    "axarr[0].set_title('Training and Validation metric recall')\n",
    "axarr[1].set_title('Training and Validation loss')\n",
    "\n",
    "for ax in axarr:\n",
    "    ax.set_xlabel('Epochs')\n",
    "\n",
    "plt.suptitle('Training and performance plots', fontsize=16, weight='bold');\n",
    "fig.tight_layout(pad=3.0)\n",
    "plt.show()"
   ]
  },
  {
   "cell_type": "code",
   "execution_count": 79,
   "metadata": {
    "execution": {
     "iopub.execute_input": "2021-11-09T17:37:38.847010Z",
     "iopub.status.busy": "2021-11-09T17:37:38.846548Z",
     "iopub.status.idle": "2021-11-09T17:37:39.566833Z",
     "shell.execute_reply": "2021-11-09T17:37:39.566086Z",
     "shell.execute_reply.started": "2021-11-09T17:37:38.846965Z"
    }
   },
   "outputs": [],
   "source": [
    "model.save('xception.h5')"
   ]
  },
  {
   "cell_type": "code",
   "execution_count": 80,
   "metadata": {
    "execution": {
     "iopub.execute_input": "2021-11-09T17:37:39.568409Z",
     "iopub.status.busy": "2021-11-09T17:37:39.568138Z",
     "iopub.status.idle": "2021-11-09T17:37:39.864099Z",
     "shell.execute_reply": "2021-11-09T17:37:39.863402Z",
     "shell.execute_reply.started": "2021-11-09T17:37:39.568357Z"
    }
   },
   "outputs": [],
   "source": [
    "predictions = np.array(list(map(lambda x: np.argmax(x), y_pred)))\n",
    "\n",
    "y_true=test_gen.classes\n",
    "\n",
    "CMatrix = pd.DataFrame(confusion_matrix(y_true, predictions), columns=classes, index =classes)\n",
    "\n",
    "plt.figure(figsize=(12, 6))\n",
    "ax = sns.heatmap(CMatrix, annot = True, fmt = 'g' ,vmin = 0, vmax = 250,cmap = 'Blues')\n",
    "ax.set_xlabel('Predicted',fontsize = 14,weight = 'bold')\n",
    "ax.set_xticklabels(ax.get_xticklabels(),rotation =0);\n",
    "\n",
    "ax.set_ylabel('Actual',fontsize = 14,weight = 'bold') \n",
    "ax.set_yticklabels(ax.get_yticklabels(),rotation =0);\n",
    "ax.set_title('Confusion Matrix - Test Set',fontsize = 16,weight = 'bold',pad=20);"
   ]
  },
  {
   "cell_type": "code",
   "execution_count": 81,
   "metadata": {
    "execution": {
     "iopub.execute_input": "2021-11-09T17:37:39.866689Z",
     "iopub.status.busy": "2021-11-09T17:37:39.865340Z",
     "iopub.status.idle": "2021-11-09T17:37:39.876357Z",
     "shell.execute_reply": "2021-11-09T17:37:39.875684Z",
     "shell.execute_reply.started": "2021-11-09T17:37:39.866651Z"
    }
   },
   "outputs": [],
   "source": [
    "print(classification_report(y_true, predictions))"
   ]
  },
  {
   "cell_type": "code",
   "execution_count": 82,
   "metadata": {
    "execution": {
     "iopub.execute_input": "2021-11-09T17:37:39.878422Z",
     "iopub.status.busy": "2021-11-09T17:37:39.878170Z",
     "iopub.status.idle": "2021-11-09T17:37:40.435293Z",
     "shell.execute_reply": "2021-11-09T17:37:40.434450Z",
     "shell.execute_reply.started": "2021-11-09T17:37:39.878389Z"
    }
   },
   "outputs": [],
   "source": [
    "acc = accuracy_score(y_true, predictions)\n",
    "\n",
    "results_all = precision_recall_fscore_support(y_true, predictions, average='macro', zero_division=1)\n",
    "results_class = precision_recall_fscore_support(y_true, predictions, average=None, zero_division=1)\n",
    "\n",
    "metric_columns = ['Precision','Recall', 'F1-Score','S']\n",
    "all_df = pd.concat([pd.DataFrame(list(results_class)).T,pd.DataFrame(list(results_all)).T])\n",
    "all_df.columns = metric_columns\n",
    "all_df.index = ['COVID','Normal', 'Viral Pneumonia','Total']\n",
    "\n",
    "def metrics_plot(df,metric):\n",
    "    plt.figure(figsize=(22,10))\n",
    "    ax = sns.barplot(data =df, x=df.index, y = metric,palette = \"Blues_d\")\n",
    "    #Bar Labels\n",
    "    for p in ax.patches:\n",
    "        ax.annotate(\"%.1f%%\" % (100*p.get_height()), (p.get_x() + p.get_width() / 2., abs(p.get_height())),\n",
    "        ha='center', va='bottom', color='black', xytext=(-3, 5),rotation = 'horizontal',textcoords='offset points')\n",
    "    sns.despine(top=True, right=True, left=True, bottom=False)\n",
    "    ax.set_xlabel('Class',fontsize = 14,weight = 'bold')\n",
    "    ax.set_ylabel(metric,fontsize = 14,weight = 'bold')\n",
    "    ax.set(yticklabels=[])\n",
    "    ax.axes.get_yaxis().set_visible(False) \n",
    "    plt.title(metric+ ' Results per Class', fontsize = 16,weight = 'bold');\n",
    "\n",
    "metrics_plot(all_df, 'Precision')#Results by Class\n",
    "metrics_plot(all_df, 'Recall')#Results by Class\n",
    "metrics_plot(all_df, 'F1-Score')#Results by Class\n"
   ]
  },
  {
   "cell_type": "code",
   "execution_count": null,
   "metadata": {},
   "outputs": [],
   "source": []
  },
  {
   "cell_type": "code",
   "execution_count": null,
   "metadata": {},
   "outputs": [],
   "source": []
  }
 ],
 "metadata": {
  "kernelspec": {
   "display_name": "han",
   "language": "python",
   "name": "han"
  },
  "language_info": {
   "codemirror_mode": {
    "name": "ipython",
    "version": 3
   },
   "file_extension": ".py",
   "mimetype": "text/x-python",
   "name": "python",
   "nbconvert_exporter": "python",
   "pygments_lexer": "ipython3",
   "version": "3.8.8"
  }
 },
 "nbformat": 4,
 "nbformat_minor": 4
}
