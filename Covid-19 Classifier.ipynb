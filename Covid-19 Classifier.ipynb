{
 "cells": [
  {
   "cell_type": "code",
   "execution_count": 1,
   "metadata": {
    "_cell_guid": "b1076dfc-b9ad-4769-8c92-a6c4dae69d19",
    "_uuid": "8f2839f25d086af736a60e9eeb907d3b93b6e0e5",
    "execution": {
     "iopub.execute_input": "2021-11-05T13:20:21.271232Z",
     "iopub.status.busy": "2021-11-05T13:20:21.270565Z",
     "iopub.status.idle": "2021-11-05T13:20:22.204847Z",
     "shell.execute_reply": "2021-11-05T13:20:22.203638Z",
     "shell.execute_reply.started": "2021-11-05T13:20:21.271113Z"
    }
   },
   "outputs": [],
   "source": [
    "# This Python 3 environment comes with many helpful analytics libraries installed\n",
    "# It is defined by the kaggle/python Docker image: https://github.com/kaggle/docker-python\n",
    "# For example, here's several helpful packages to load\n",
    "\n",
    "import numpy as np # linear algebra\n",
    "import pandas as pd # data processing, CSV file I/O (e.g. pd.read_csv)\n",
    "import seaborn as sns\n",
    "import matplotlib.pyplot as plt\n",
    "import matplotlib.image as mpimg\n",
    "from matplotlib.offsetbox import OffsetImage, AnnotationBbox\n",
    "from glob import glob\n",
    "from PIL import Image\n",
    "import os\n",
    "import random\n",
    "# You can write up to 20GB to the current directory (/kaggle/working/) that gets preserved as output when you create a version using \"Save & Run All\" \n",
    "# You can also write temporary files to /kaggle/temp/, but they won't be saved outside of the current session"
   ]
  },
  {
   "cell_type": "code",
   "execution_count": 2,
   "metadata": {
    "execution": {
     "iopub.execute_input": "2021-11-05T13:20:22.207104Z",
     "iopub.status.busy": "2021-11-05T13:20:22.206853Z",
     "iopub.status.idle": "2021-11-05T13:20:28.478409Z",
     "shell.execute_reply": "2021-11-05T13:20:28.477103Z",
     "shell.execute_reply.started": "2021-11-05T13:20:22.207074Z"
    }
   },
   "outputs": [],
   "source": [
    "\n",
    "\n",
    "#Model\n",
    "import tensorflow as tf\n",
    "from tensorflow.keras.models import Sequential, Model,load_model\n",
    "from tensorflow.keras.layers import Activation,Dense, Dropout, Flatten, Conv2D, MaxPooling2D,MaxPool2D,AveragePooling2D,GlobalMaxPooling2D\n",
    "from tensorflow.keras import backend as K\n",
    "from tensorflow.keras.wrappers.scikit_learn import KerasClassifier\n",
    "from tensorflow.keras.layers import BatchNormalization\n",
    "from tensorflow.keras.utils import to_categorical # convert to one-hot-encoding\n",
    "from tensorflow.keras import regularizers\n",
    "from tensorflow.keras.optimizers import Adam, SGD\n",
    "from tensorflow.keras.preprocessing.image import ImageDataGenerator,array_to_img\n",
    "from tensorflow.keras.callbacks import ReduceLROnPlateau, EarlyStopping,ModelCheckpoint\n",
    "from tensorflow.keras.metrics import PrecisionAtRecall,Recall\n",
    "\n"
   ]
  },
  {
   "cell_type": "code",
   "execution_count": 3,
   "metadata": {
    "execution": {
     "iopub.execute_input": "2021-11-05T13:20:28.480106Z",
     "iopub.status.busy": "2021-11-05T13:20:28.479844Z",
     "iopub.status.idle": "2021-11-05T13:20:28.494280Z",
     "shell.execute_reply": "2021-11-05T13:20:28.493116Z",
     "shell.execute_reply.started": "2021-11-05T13:20:28.480072Z"
    }
   },
   "outputs": [],
   "source": [
    "tf.config.list_physical_devices(\"GPU\")"
   ]
  },
  {
   "cell_type": "code",
   "execution_count": 4,
   "metadata": {
    "execution": {
     "iopub.execute_input": "2021-11-05T13:20:28.498339Z",
     "iopub.status.busy": "2021-11-05T13:20:28.497969Z",
     "iopub.status.idle": "2021-11-05T13:20:28.931339Z",
     "shell.execute_reply": "2021-11-05T13:20:28.930350Z",
     "shell.execute_reply.started": "2021-11-05T13:20:28.498275Z"
    }
   },
   "outputs": [],
   "source": [
    "from sklearn.metrics import confusion_matrix, classification_report\n",
    "from sklearn.metrics import precision_recall_fscore_support, accuracy_score"
   ]
  },
  {
   "cell_type": "code",
   "execution_count": 5,
   "metadata": {
    "execution": {
     "iopub.execute_input": "2021-11-05T13:20:28.933025Z",
     "iopub.status.busy": "2021-11-05T13:20:28.932807Z",
     "iopub.status.idle": "2021-11-05T13:20:28.938785Z",
     "shell.execute_reply": "2021-11-05T13:20:28.937101Z",
     "shell.execute_reply.started": "2021-11-05T13:20:28.932996Z"
    }
   },
   "outputs": [],
   "source": [
    "from numpy.random import seed\n",
    "seed(0)"
   ]
  },
  {
   "cell_type": "code",
   "execution_count": 6,
   "metadata": {
    "execution": {
     "iopub.execute_input": "2021-11-05T13:20:28.940842Z",
     "iopub.status.busy": "2021-11-05T13:20:28.940218Z",
     "iopub.status.idle": "2021-11-05T13:20:28.951178Z",
     "shell.execute_reply": "2021-11-05T13:20:28.950214Z",
     "shell.execute_reply.started": "2021-11-05T13:20:28.940798Z"
    }
   },
   "outputs": [],
   "source": [
    "tf.random.set_seed(0)"
   ]
  },
  {
   "cell_type": "code",
   "execution_count": 7,
   "metadata": {
    "execution": {
     "iopub.execute_input": "2021-11-05T13:20:28.953255Z",
     "iopub.status.busy": "2021-11-05T13:20:28.952749Z",
     "iopub.status.idle": "2021-11-05T13:20:29.134885Z",
     "shell.execute_reply": "2021-11-05T13:20:29.134335Z",
     "shell.execute_reply.started": "2021-11-05T13:20:28.953217Z"
    }
   },
   "outputs": [],
   "source": [
    "path = '../input/chest-xray-covid19-pneumonia/Data/train'\n",
    "\n",
    "diag_code_dict = {\n",
    "    'COVID19': 0,\n",
    "    'NORMAL': 1,\n",
    "    'PNEUMONIA': 2}\n",
    "\n",
    "diag_title_dict = {\n",
    "    'COVID19': 'Covid-19',\n",
    "    'NORMAL': 'Healthy',\n",
    "    'PNEUMONIA': 'Pneumonia'}\n",
    "\n",
    "imageid_path_dict = {os.path.splitext(os.path.basename(x))[0]: x for x in glob(os.path.join(path, '*','*.png'))}\n",
    "\n",
    "imageid_path_dict"
   ]
  },
  {
   "cell_type": "code",
   "execution_count": 8,
   "metadata": {
    "execution": {
     "iopub.execute_input": "2021-11-05T13:20:29.136943Z",
     "iopub.status.busy": "2021-11-05T13:20:29.136024Z",
     "iopub.status.idle": "2021-11-05T13:20:30.534215Z",
     "shell.execute_reply": "2021-11-05T13:20:30.533510Z",
     "shell.execute_reply.started": "2021-11-05T13:20:29.136895Z"
    }
   },
   "outputs": [],
   "source": [
    "\n",
    "data_path = '../input/chest-xray-covid19-pneumonia/Data'\n",
    "test_path = '../input/chest-xray-covid19-pneumonia/Data/test/'\n",
    "train_path = '../input/chest-xray-covid19-pneumonia/Data/train/'\n",
    "\n",
    "classes = [\"COVID19\", \"NORMAL\", \"PNEUMONIA\"]\n",
    "num_classes = len(classes)\n",
    "batch_size = 16\n",
    "\n",
    "train_datagen = ImageDataGenerator(rescale=1./255,\n",
    "                                  rotation_range=20,\n",
    "                                  width_shift_range=0.2,\n",
    "                                  height_shift_range=0.2,\n",
    "                                  horizontal_flip=True, validation_split=0.001)\n",
    "\n",
    "test_datagen = ImageDataGenerator(rescale=1./255,\n",
    "                                 validation_split=0.999)\n",
    "\n",
    "train_gen = train_datagen.flow_from_directory(directory=train_path,\n",
    "                                             target_size=(299, 299),\n",
    "                                             class_mode='categorical',\n",
    "                                             subset='training',\n",
    "                                             shuffle=True, classes=classes,\n",
    "                                             batch_size=batch_size,\n",
    "                                             )\n",
    "\n",
    "test_gen = test_datagen.flow_from_directory(directory=test_path,\n",
    "                                             target_size=(299, 299),\n",
    "                                             class_mode='categorical',\n",
    "                                             subset='validation',\n",
    "                                             shuffle=False, classes=classes,\n",
    "                                             batch_size=batch_size,\n",
    "                                             )"
   ]
  },
  {
   "cell_type": "code",
   "execution_count": 9,
   "metadata": {
    "execution": {
     "iopub.execute_input": "2021-11-05T13:20:30.536743Z",
     "iopub.status.busy": "2021-11-05T13:20:30.536105Z",
     "iopub.status.idle": "2021-11-05T13:20:30.949503Z",
     "shell.execute_reply": "2021-11-05T13:20:30.948677Z",
     "shell.execute_reply.started": "2021-11-05T13:20:30.536696Z"
    }
   },
   "outputs": [],
   "source": [
    "model = Sequential()\n",
    "model.add(Conv2D(32, (3,3), activation='relu', padding='Same', input_shape=(299, 299, 3)))\n",
    "model.add(BatchNormalization())\n",
    "\n",
    "################\n",
    "\n",
    "model.add(Conv2D(64, (3,3), activation='relu', padding='Same'))\n",
    "model.add(BatchNormalization())\n",
    "model.add(AveragePooling2D(pool_size = (2,2)))\n",
    "model.add(Dropout(0.25))\n",
    "\n",
    "model.add(Conv2D(64, (3,3), activation='relu', padding='Same'))\n",
    "model.add(BatchNormalization())\n",
    "\n",
    "model.add(Conv2D(64, (3,3), activation='relu', padding='Same'))\n",
    "model.add(BatchNormalization())\n",
    "model.add(AveragePooling2D(pool_size = (2,2)))\n",
    "model.add(Dropout(0.25))\n",
    "\n",
    "#################\n",
    "\n",
    "model.add(Conv2D(64, (3,3), activation='relu', padding='Same'))\n",
    "model.add(BatchNormalization())\n",
    "model.add(AveragePooling2D(pool_size = (2,2)))\n",
    "model.add(Dropout(0.25))\n",
    "\n",
    "model.add(Conv2D(64, (3,3), activation='relu', padding='Same'))\n",
    "model.add(BatchNormalization())\n",
    "\n",
    "model.add(Conv2D(64, (3,3), activation='relu', padding='Same'))\n",
    "model.add(BatchNormalization())\n",
    "model.add(AveragePooling2D(pool_size = (2,2)))\n",
    "model.add(Dropout(0.25))\n",
    "\n",
    "#################\n",
    "\n",
    "model.add(Flatten())\n",
    "\n",
    "model.add(BatchNormalization())\n",
    "model.add(Dense(128, activation='relu'))\n",
    "model.add(Activation('relu'))\n",
    "model.add(Dropout(0.25))\n",
    "\n",
    "#Output \n",
    "model.add(BatchNormalization())\n",
    "model.add(Dense(num_classes, activation='softmax'))"
   ]
  },
  {
   "cell_type": "code",
   "execution_count": 10,
   "metadata": {
    "execution": {
     "iopub.execute_input": "2021-11-05T13:20:30.953889Z",
     "iopub.status.busy": "2021-11-05T13:20:30.953275Z",
     "iopub.status.idle": "2021-11-05T13:20:30.978244Z",
     "shell.execute_reply": "2021-11-05T13:20:30.977196Z",
     "shell.execute_reply.started": "2021-11-05T13:20:30.953835Z"
    }
   },
   "outputs": [],
   "source": [
    "model.summary()"
   ]
  },
  {
   "cell_type": "code",
   "execution_count": 11,
   "metadata": {
    "execution": {
     "iopub.execute_input": "2021-11-05T13:20:30.981285Z",
     "iopub.status.busy": "2021-11-05T13:20:30.980473Z",
     "iopub.status.idle": "2021-11-05T13:20:31.002188Z",
     "shell.execute_reply": "2021-11-05T13:20:31.001183Z",
     "shell.execute_reply.started": "2021-11-05T13:20:30.981228Z"
    }
   },
   "outputs": [],
   "source": [
    "opt = Adam(lr=0.002, beta_1=0.9, beta_2=0.999, epsilon=None, decay=0.1, amsgrad=False)\n",
    "model.compile(optimizer=opt, loss='categorical_crossentropy', metrics=['acc'])"
   ]
  },
  {
   "cell_type": "code",
   "execution_count": 12,
   "metadata": {
    "collapsed": true,
    "execution": {
     "iopub.execute_input": "2021-11-05T13:20:31.004672Z",
     "iopub.status.busy": "2021-11-05T13:20:31.004354Z",
     "iopub.status.idle": "2021-11-05T13:20:32.147548Z",
     "shell.execute_reply": "2021-11-05T13:20:32.146664Z",
     "shell.execute_reply.started": "2021-11-05T13:20:31.004636Z"
    },
    "jupyter": {
     "outputs_hidden": true
    }
   },
   "outputs": [],
   "source": [
    "from tensorflow import keras\n",
    "\n",
    "keras.utils.plot_model(model)"
   ]
  },
  {
   "cell_type": "code",
   "execution_count": 13,
   "metadata": {
    "execution": {
     "iopub.execute_input": "2021-11-05T13:20:32.149986Z",
     "iopub.status.busy": "2021-11-05T13:20:32.149504Z",
     "iopub.status.idle": "2021-11-05T13:25:19.170335Z",
     "shell.execute_reply": "2021-11-05T13:25:19.169560Z",
     "shell.execute_reply.started": "2021-11-05T13:20:32.149949Z"
    }
   },
   "outputs": [],
   "source": [
    "epochs=2\n",
    "\n",
    "#callback\n",
    "\n",
    "history = model.fit(train_gen,\n",
    "                    steps_per_epoch=len(train_gen) // batch_size,\n",
    "                    validation_steps=len(test_gen) // batch_size,\n",
    "                    validation_data=test_gen, epochs=epochs)"
   ]
  },
  {
   "cell_type": "code",
   "execution_count": 14,
   "metadata": {
    "execution": {
     "iopub.execute_input": "2021-11-05T13:25:19.172505Z",
     "iopub.status.busy": "2021-11-05T13:25:19.172063Z",
     "iopub.status.idle": "2021-11-05T13:27:04.002116Z",
     "shell.execute_reply": "2021-11-05T13:27:04.000884Z",
     "shell.execute_reply.started": "2021-11-05T13:25:19.172443Z"
    }
   },
   "outputs": [],
   "source": [
    "y_pred = model.predict(test_gen)"
   ]
  },
  {
   "cell_type": "code",
   "execution_count": 15,
   "metadata": {
    "execution": {
     "iopub.execute_input": "2021-11-05T13:27:04.004964Z",
     "iopub.status.busy": "2021-11-05T13:27:04.004590Z",
     "iopub.status.idle": "2021-11-05T13:27:04.011375Z",
     "shell.execute_reply": "2021-11-05T13:27:04.010322Z",
     "shell.execute_reply.started": "2021-11-05T13:27:04.004925Z"
    }
   },
   "outputs": [],
   "source": [
    "history.history.keys()"
   ]
  },
  {
   "cell_type": "code",
   "execution_count": 16,
   "metadata": {
    "execution": {
     "iopub.execute_input": "2021-11-05T13:27:04.013253Z",
     "iopub.status.busy": "2021-11-05T13:27:04.012862Z",
     "iopub.status.idle": "2021-11-05T13:27:04.632178Z",
     "shell.execute_reply": "2021-11-05T13:27:04.631373Z",
     "shell.execute_reply.started": "2021-11-05T13:27:04.013209Z"
    }
   },
   "outputs": [],
   "source": [
    "fig, axarr = plt.subplots(1,2, figsize=(15,5), sharex=True)\n",
    "\n",
    "sns.set(style=\"ticks\", font_scale = 1)\n",
    "sns.despine(top=True, right=True, left=False, bottom=False)\n",
    "\n",
    "historyDF = pd.DataFrame.from_dict(history.history)\n",
    "ax = sns.lineplot(x = historyDF.index, y = history.history['acc'], ax=axarr[0], label=\"Training\");\n",
    "ax = sns.lineplot(x = historyDF.index, y = history.history['val_acc'], ax=axarr[0], label=\"Validation\");\n",
    "ax.set_ylabel('Accuracy')\n",
    "\n",
    "ax = sns.lineplot(x = historyDF.index, y = history.history['loss'], ax=axarr[1], label=\"Training\");\n",
    "ax = sns.lineplot(x = historyDF.index, y = history.history['val_loss'], ax=axarr[1], label=\"Validation\");\n",
    "ax.set_ylabel('Loss')\n",
    "\n",
    "\n",
    "axarr[0].set_title('Training and Validation metric recall')\n",
    "axarr[1].set_title('Training and Validation loss')\n",
    "\n",
    "for ax in axarr:\n",
    "    ax.set_xlabel('Epochs')\n",
    "\n",
    "plt.suptitle('Training and performance plots', fontsize=16, weight='bold');\n",
    "fig.tight_layout(pad=3.0)\n",
    "plt.show()"
   ]
  },
  {
   "cell_type": "code",
   "execution_count": 18,
   "metadata": {
    "execution": {
     "iopub.execute_input": "2021-11-05T13:27:04.967837Z",
     "iopub.status.busy": "2021-11-05T13:27:04.967573Z",
     "iopub.status.idle": "2021-11-05T13:27:04.985361Z",
     "shell.execute_reply": "2021-11-05T13:27:04.983933Z",
     "shell.execute_reply.started": "2021-11-05T13:27:04.967806Z"
    }
   },
   "outputs": [],
   "source": [
    "print(classification_report(y_true, predictions))"
   ]
  },
  {
   "cell_type": "code",
   "execution_count": 19,
   "metadata": {
    "execution": {
     "iopub.execute_input": "2021-11-05T13:27:04.986999Z",
     "iopub.status.busy": "2021-11-05T13:27:04.986768Z",
     "iopub.status.idle": "2021-11-05T13:27:05.633836Z",
     "shell.execute_reply": "2021-11-05T13:27:05.632817Z",
     "shell.execute_reply.started": "2021-11-05T13:27:04.986970Z"
    }
   },
   "outputs": [],
   "source": [
    "acc = accuracy_score(y_true, predictions)\n",
    "\n",
    "results_all = precision_recall_fscore_support(y_true, predictions, average='macro', zero_division=1)\n",
    "results_class = precision_recall_fscore_support(y_true, predictions, average=None, zero_division=1)\n",
    "\n",
    "metric_columns = ['Precision','Recall', 'F1-Score','S']\n",
    "all_df = pd.concat([pd.DataFrame(list(results_class)).T,pd.DataFrame(list(results_all)).T])\n",
    "all_df.columns = metric_columns\n",
    "all_df.index = ['COVID','Normal', 'Viral Pneumonia','Total']\n",
    "\n",
    "def metrics_plot(df,metric):\n",
    "    plt.figure(figsize=(22,10))\n",
    "    ax = sns.barplot(data =df, x=df.index, y = metric,palette = \"Blues_d\")\n",
    "    #Bar Labels\n",
    "    for p in ax.patches:\n",
    "        ax.annotate(\"%.1f%%\" % (100*p.get_height()), (p.get_x() + p.get_width() / 2., abs(p.get_height())),\n",
    "        ha='center', va='bottom', color='black', xytext=(-3, 5),rotation = 'horizontal',textcoords='offset points')\n",
    "    sns.despine(top=True, right=True, left=True, bottom=False)\n",
    "    ax.set_xlabel('Class',fontsize = 14,weight = 'bold')\n",
    "    ax.set_ylabel(metric,fontsize = 14,weight = 'bold')\n",
    "    ax.set(yticklabels=[])\n",
    "    ax.axes.get_yaxis().set_visible(False) \n",
    "    plt.title(metric+ ' Results per Class', fontsize = 16,weight = 'bold');\n",
    "\n",
    "metrics_plot(all_df, 'Precision')#Results by Class\n",
    "metrics_plot(all_df, 'Recall')#Results by Class\n",
    "metrics_plot(all_df, 'F1-Score')#Results by Class\n"
   ]
  },
  {
   "cell_type": "markdown",
   "metadata": {},
   "source": [
    "# Matrix"
   ]
  },
  {
   "cell_type": "code",
   "execution_count": 17,
   "metadata": {
    "execution": {
     "iopub.execute_input": "2021-11-05T13:27:04.633664Z",
     "iopub.status.busy": "2021-11-05T13:27:04.633423Z",
     "iopub.status.idle": "2021-11-05T13:27:04.966029Z",
     "shell.execute_reply": "2021-11-05T13:27:04.964979Z",
     "shell.execute_reply.started": "2021-11-05T13:27:04.633634Z"
    }
   },
   "outputs": [],
   "source": [
    "predictions = np.array(list(map(lambda x: np.argmax(x), y_pred)))\n",
    "\n",
    "y_true=test_gen.classes\n",
    "\n",
    "CMatrix = pd.DataFrame(confusion_matrix(y_true, predictions), columns=classes, index =classes)\n",
    "\n",
    "plt.figure(figsize=(12, 6))\n",
    "ax = sns.heatmap(CMatrix, annot = True, fmt = 'g' ,vmin = 0, vmax = 250,cmap = 'Blues')\n",
    "ax.set_xlabel('Predicted',fontsize = 14,weight = 'bold')\n",
    "ax.set_xticklabels(ax.get_xticklabels(),rotation =0);\n",
    "\n",
    "ax.set_ylabel('Actual',fontsize = 14,weight = 'bold') \n",
    "ax.set_yticklabels(ax.get_yticklabels(),rotation =0);\n",
    "ax.set_title('Confusion Matrix - Test Set',fontsize = 16,weight = 'bold',pad=20);"
   ]
  },
  {
   "cell_type": "markdown",
   "metadata": {},
   "source": [
    "# Visualization"
   ]
  },
  {
   "cell_type": "code",
   "execution_count": 20,
   "metadata": {
    "execution": {
     "iopub.execute_input": "2021-11-05T13:28:15.758511Z",
     "iopub.status.busy": "2021-11-05T13:28:15.758107Z",
     "iopub.status.idle": "2021-11-05T13:28:17.537619Z",
     "shell.execute_reply": "2021-11-05T13:28:17.536565Z",
     "shell.execute_reply.started": "2021-11-05T13:28:15.758474Z"
    }
   },
   "outputs": [],
   "source": [
    "from skimage.segmentation import mark_boundaries\n",
    "import lime\n",
    "from lime import lime_image\n",
    "import cv2"
   ]
  },
  {
   "cell_type": "code",
   "execution_count": 28,
   "metadata": {
    "execution": {
     "iopub.execute_input": "2021-11-05T13:32:53.730468Z",
     "iopub.status.busy": "2021-11-05T13:32:53.730103Z",
     "iopub.status.idle": "2021-11-05T13:32:53.738088Z",
     "shell.execute_reply": "2021-11-05T13:32:53.737395Z",
     "shell.execute_reply.started": "2021-11-05T13:32:53.730429Z"
    }
   },
   "outputs": [],
   "source": [
    "def visualize(file_path):\n",
    "    test_image = cv2.imread(data_path + file_path)\n",
    "    test_image = cv2.resize(test_image,(299,299),interpolation=cv2.INTER_NEAREST)\n",
    "    test_image = np.expand_dims(test_image, axis=0)\n",
    "\n",
    "    explainer = lime_image.LimeImageExplainer()\n",
    "    explanation = explainer.explain_instance(test_image[0], model.predict, top_labels=5, hide_color=0, num_samples=1000)\n",
    "    temp, mask = explanation.get_image_and_mask(explanation.top_labels[0], positive_only=True, num_features=5, hide_rest=False)\n",
    "\n",
    "    plt.imshow(mark_boundaries(temp, mask))"
   ]
  },
  {
   "cell_type": "code",
   "execution_count": 29,
   "metadata": {
    "execution": {
     "iopub.execute_input": "2021-11-05T13:33:08.714688Z",
     "iopub.status.busy": "2021-11-05T13:33:08.714272Z",
     "iopub.status.idle": "2021-11-05T13:34:24.217126Z",
     "shell.execute_reply": "2021-11-05T13:34:24.216318Z",
     "shell.execute_reply.started": "2021-11-05T13:33:08.714649Z"
    }
   },
   "outputs": [],
   "source": [
    "visualize('/train/COVID19/COVID19(50).jpg')"
   ]
  }
 ],
 "metadata": {
  "kernelspec": {
   "display_name": "Python 3",
   "language": "python",
   "name": "python3"
  },
  "language_info": {
   "codemirror_mode": {
    "name": "ipython",
    "version": 3
   },
   "file_extension": ".py",
   "mimetype": "text/x-python",
   "name": "python",
   "nbconvert_exporter": "python",
   "pygments_lexer": "ipython3",
   "version": "3.8.8"
  }
 },
 "nbformat": 4,
 "nbformat_minor": 4
}
